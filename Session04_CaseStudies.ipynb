{
 "cells": [
  {
   "cell_type": "markdown",
   "metadata": {},
   "source": [
    "# Case Study\n",
    "# Estimating the Storage Capacity of a CD/DVD/Blu-ray Disc\n",
    "\n",
    "**Blu-ray** is part of a group of storage media known as optical discs. CDs, DVDs and Blu-ray discs are some of the best known examples of these media.\n",
    "\n",
    "- Data is read using lasers\n",
    "- Data is stored as binary numbers on the flat area of the disc\n",
    "- The storage capacity is determined by the density of data\n",
    "\n",
    "    \n",
    "| Format | Type of Laser     |Data Stripe Width | Data Density |\n",
    "|--------|-------------------|--------------|--------------|\n",
    "| CD | Ultra-Red | $1.6 \\mu m$ | 121 bytes / mm|\n",
    "| DVD| Red | $0.74 \\mu m$ | 387 bytes / mm|\n",
    "| Blu-ray| Blue | $0.32 \\mu m$ | 800 bytes / mm|\n",
    "\n",
    "$1m = 10^6\\mu m$ (micro meter)\n",
    "\n",
    "**How to estimate the storage capacity of CD/DVD/Blu-ray discs?**"
   ]
  },
  {
   "cell_type": "markdown",
   "metadata": {},
   "source": [
    "![How a disc stores data](images/Session0401_discs.png)\n",
    "\n",
    "![How a disc stores data](images/Session0402_discs.png)"
   ]
  },
  {
   "cell_type": "markdown",
   "metadata": {},
   "source": [
    "### Ideas\n",
    "- Storage Capacity = Total Length of the Data Stripe $\\times$ Data Density\n",
    "- How to calculate the total length of the data stripe?\n",
    "    - Since the data strip fill the entire circular area:\n",
    "    $$length = area / width$$\n",
    "\n",
    "### Problem Restatement\n",
    "If the original is vague, it is necessary to restate the problem to clarify what the objectives are.\n",
    "- Explain terminologies\n",
    "- Specify constraints\n",
    "- Add more details\n",
    "\n",
    "### Assumptions and Justifications\n",
    "If the problem does not provide certain important information, we need to make proper assumptions so that the problem can be studied.\n",
    "\n",
    "### Model Construction\n",
    "Convert the real-world problem to a well-defined mathematical problem.\n",
    "- List of variables\n",
    "- Statement of the mathematical problem\n",
    "- Description of the method\n",
    "\n",
    "### Solution\n",
    "Solve the problem.\n",
    "- Data preparation\n",
    "- Write a computer program to find solutions\n",
    "\n",
    "### Sensitivity Analysis\n",
    "Will the solution change dramatically if:\n",
    "- A assumption is modified\n",
    "- The data changes a little bit"
   ]
  },
  {
   "cell_type": "markdown",
   "metadata": {},
   "source": [
    "## Scientific Notation in Python\n",
    "`1.6e-3` represents $1.6 \\times 10 ^ {-3}$."
   ]
  },
  {
   "cell_type": "code",
   "execution_count": 1,
   "metadata": {},
   "outputs": [
    {
     "name": "stdout",
     "output_type": "stream",
     "text": [
      "Data strip length: 5611174.264062499\n"
     ]
    }
   ],
   "source": [
    "# length = area / width \n",
    "disc_outer_diameter = 120 # mm\n",
    "disc_inner_diameter = 45 # mm\n",
    "edge_width = 2 # mm\n",
    "data_strip_width = 1.6e-3 # mm\n",
    "data_density = 121 # bits / mm\n",
    "pi = 3.14159\n",
    "\n",
    "disc_outer_radius = disc_outer_diameter / 2 - edge_width\n",
    "disc_inner_radius = disc_inner_diameter / 2\n",
    "outer_disc_area = pi * disc_outer_radius ** 2\n",
    "inner_disc_area = pi * disc_inner_radius ** 2\n",
    "\n",
    "# area of a circle = pi * radius ** 2\n",
    "data_area = outer_disc_area - inner_disc_area\n",
    "\n",
    "data_strip_length = data_area / data_strip_width\n",
    "\n",
    "print(\"Data strip length:\", data_strip_length)"
   ]
  },
  {
   "cell_type": "code",
   "execution_count": 4,
   "metadata": {},
   "outputs": [
    {
     "name": "stdout",
     "output_type": "stream",
     "text": [
      "Number of bits stored in a CD disc: 678952085.9515623\n",
      "Number of MB stored in a CD disc: 647.4991664424537\n"
     ]
    }
   ],
   "source": [
    "# Storage = length * density\n",
    "storage = data_strip_length * data_density\n",
    "print(\"Number of bits stored in a CD disc:\", storage)\n",
    "\n",
    "# B -> byte \n",
    "# 1 byte = 8 bit\n",
    "# 1 KB = 1024 B = 1024 * 8 bit\n",
    "# 1 MB = 1024 KB = 1024 * 1024 * 8 bit\n",
    "storage_MB = storage / 1024 / 1024 \n",
    "print(\"Number of MB stored in a CD disc:\", storage_MB) "
   ]
  },
  {
   "cell_type": "markdown",
   "metadata": {},
   "source": [
    "# Homework\n",
    "Suppose you are designing the checkout area for a new store. There is enough room in the store for two checkout counters and a waiting area for customers. You can make two lines, one for each counter, or one line that feeds both counters.\n",
    "\n",
    "A single queue can ensure that each shopper is treated equally, first-come, first-served. It however has some practical drawbacks: in order to maintain a single line, you might have to install barriers, and customers might be put off by what seems to be a longer line. The central question is: Which system makes customers happier?\n",
    "\n",
    "For this assignment, please build a mathematical model to determine which queueing system customers would prefer.\n",
    "- Restate the problem to clarify the objectives\n",
    "- Make proper assumptions for missing information\n",
    "- Build a mathematical model\n",
    "- Calculate the solution\n",
    "- Perform sensitivity analysis of your results\n",
    "\n",
    "Please spend **no more than 3 hours** on this problem. Submit your report to Liang.Zhao1@lehman.cuny.edu and xuzhixin@paperpai.com before **Thursday, June 17th at 11:59 PM**. Your email should be titled \"HiMCM Homework #2 - (Your Name)\"."
   ]
  },
  {
   "cell_type": "markdown",
   "metadata": {},
   "source": [
    "## Programs We Wrote Today"
   ]
  },
  {
   "cell_type": "markdown",
   "metadata": {},
   "source": [
    "Solutions to yesterday's exercises:"
   ]
  },
  {
   "cell_type": "code",
   "execution_count": 6,
   "metadata": {},
   "outputs": [
    {
     "name": "stdout",
     "output_type": "stream",
     "text": [
      "Python\n",
      "Python\n",
      "Python\n",
      "Python\n",
      "Python\n",
      "Python\n",
      "Python\n",
      "Python\n",
      "Python\n",
      "Python\n"
     ]
    }
   ],
   "source": [
    "# Print string \"Python\" 10 times with a loop.\n",
    "\n",
    "for i in range(10): # a, a+1, a+2, ..., b-1\n",
    "    print(\"Python\")"
   ]
  },
  {
   "cell_type": "code",
   "execution_count": 7,
   "metadata": {},
   "outputs": [
    {
     "name": "stdout",
     "output_type": "stream",
     "text": [
      "0\n",
      "1\n",
      "2\n",
      "3\n",
      "4\n",
      "5\n",
      "6\n",
      "7\n",
      "8\n",
      "9\n",
      "10\n",
      "11\n",
      "12\n",
      "13\n",
      "14\n",
      "15\n",
      "16\n",
      "17\n",
      "18\n",
      "19\n"
     ]
    }
   ],
   "source": [
    "# Print the first 20 integers, starting with 0.\n",
    "for i in range(20): # includes 0, 1, ..., 19\n",
    "    print(i)"
   ]
  },
  {
   "cell_type": "code",
   "execution_count": 8,
   "metadata": {},
   "outputs": [
    {
     "name": "stdout",
     "output_type": "stream",
     "text": [
      "Sum: 190\n"
     ]
    }
   ],
   "source": [
    "# Calculate the sum of the first 20 integers.\n",
    "sum = 0\n",
    "for i in range(20):\n",
    "    sum = sum + i # sum += i\n",
    "print(\"Sum:\", sum)"
   ]
  },
  {
   "cell_type": "code",
   "execution_count": 9,
   "metadata": {},
   "outputs": [
    {
     "name": "stdout",
     "output_type": "stream",
     "text": [
      "2432902008176640000\n"
     ]
    }
   ],
   "source": [
    "# Calculate 20!\n",
    "product = 1\n",
    "for i in range(1, 21):\n",
    "    product = product * i\n",
    "    # product *= i\n",
    "print(product)"
   ]
  },
  {
   "cell_type": "code",
   "execution_count": 10,
   "metadata": {},
   "outputs": [
    {
     "name": "stdout",
     "output_type": "stream",
     "text": [
      "1\n",
      "2\n",
      "4\n",
      "5\n",
      "10\n",
      "20\n",
      "25\n",
      "50\n",
      "100\n"
     ]
    }
   ],
   "source": [
    "# Print all divisors of 100.\n",
    "for i in range(1, 101):\n",
    "    if 100 % i == 0:\n",
    "        print(i)"
   ]
  },
  {
   "cell_type": "code",
   "execution_count": 11,
   "metadata": {},
   "outputs": [
    {
     "name": "stdout",
     "output_type": "stream",
     "text": [
      "@\n",
      "@@\n",
      "@@@\n",
      "@@@@\n",
      "@@@@@\n",
      "@@@@@@\n",
      "@\n",
      "@@\n",
      "@@@\n",
      "@@@@\n",
      "@@@@@\n",
      "@@@@@@\n"
     ]
    }
   ],
   "source": [
    "# Print the following pattern:\n",
    "# @\n",
    "# @@\n",
    "# @@@\n",
    "# @@@@\n",
    "# @@@@@\n",
    "# @@@@@@\n",
    "for i in range(1, 7):\n",
    "    print(\"@\" * i)\n",
    "    \n",
    "\n",
    "for i in range(1, 7):\n",
    "    # print i @'s\n",
    "    for j in range(i):\n",
    "        print(\"@\", end=\"\")\n",
    "    print()"
   ]
  },
  {
   "cell_type": "code",
   "execution_count": 12,
   "metadata": {},
   "outputs": [
    {
     "name": "stdout",
     "output_type": "stream",
     "text": [
      "Alice\n",
      "charlie\n",
      "None\n",
      "['Alice', 'Bob', 'charlie', 'David']\n",
      "None\n",
      "['Alice', 'Bob', 'charlie']\n",
      "3\n",
      "0\n",
      "1\n",
      "2\n",
      "3\n",
      "4\n",
      "5\n",
      "6\n",
      "7\n",
      "8\n",
      "9\n",
      "10\n",
      "11\n",
      "12\n",
      "13\n",
      "1\n",
      "2\n",
      "4\n",
      "5\n",
      "10\n",
      "20\n",
      "25\n",
      "50\n",
      "100\n",
      "222\n"
     ]
    }
   ],
   "source": [
    "# List\n",
    "names = [\"Alice\", \"Bob\", \"charlie\"]\n",
    "# print the first name\n",
    "print(names[0])\n",
    "print(names[-1]) # negative index means \n",
    "                # counting from the last one\n",
    "print(names.append(\"David\"))\n",
    "print(names)\n",
    "print(names.remove(\"David\"))\n",
    "print(names)\n",
    "print(len(names))\n",
    "\n",
    "# break\n",
    "# display integers from 1 to n so that \n",
    "# 1 + 2 + .... + n <= 100\n",
    "sum = 0\n",
    "for i in range(100):\n",
    "    sum = sum + i\n",
    "    if sum > 100:\n",
    "        # stop the loop early\n",
    "        break\n",
    "    print(i)\n",
    "\n",
    "# continue\n",
    "# Print all divisors of 100.\n",
    "for i in range(1, 101):\n",
    "    \n",
    "    if 100 % i != 0:\n",
    "        continue\n",
    "    \n",
    "    print(i)\n",
    "\n",
    "# Find the first number after 100 that is \n",
    "# divisible by 37.\n",
    "threshold = 200\n",
    "divisor = 37\n",
    "for i in range(threshold, threshold + divisor):\n",
    "    if i % divisor == 0:\n",
    "        print(i)\n",
    "        break"
   ]
  },
  {
   "cell_type": "markdown",
   "metadata": {},
   "source": [
    "Task 1 from the river-crossing problem:"
   ]
  },
  {
   "cell_type": "code",
   "execution_count": 13,
   "metadata": {},
   "outputs": [
    {
     "name": "stdout",
     "output_type": "stream",
     "text": [
      "number of merchants on the original bank:3\n",
      "number of servants on the original bank:3\n",
      "number of merchants boarding the boat:1\n",
      "number of servants boarding the boat:1\n",
      "step number:1\n",
      "Is this move feasible? True\n"
     ]
    }
   ],
   "source": [
    "# Write a program to check if a move (u, v) is feasible.\n",
    "x = input(\"number of merchants on the original bank:\") # \n",
    "y = input(\"number of servants on the original bank:\")\n",
    "u = input(\"number of merchants boarding the boat:\")\n",
    "v = input(\"number of servants boarding the boat:\")\n",
    "step = input(\"step number:\")\n",
    "\n",
    "# Convert x, y, u, v to integers\n",
    "x = int(x)\n",
    "y = int(y)\n",
    "u = int(u)\n",
    "v = int(v)\n",
    "step = int(step)\n",
    "# print(x, y, u, v)\n",
    "\n",
    "# Find the value of x and y after the transport\n",
    "if step % 2 == 1:\n",
    "    x = x - u\n",
    "    y = y - v\n",
    "else:\n",
    "    x = x + u\n",
    "    y = y + v\n",
    "\n",
    "# Print(\"This move is feasible) if this move is feasible\n",
    "is_feasible = True # whether this move is feasible\n",
    "\n",
    "# is_feasible should be False if x or y is < 0 or > 3.\n",
    "if x < 0 or x > 3 or y < 0 or y > 3:\n",
    "    is_feasible = False\n",
    "\n",
    "# If x > 0 and x < y, then is_feasible should be False\n",
    "if x > 0 and x < y:\n",
    "    is_feasible = False\n",
    "\n",
    "# If (3 - x) > 0 and (3 - x) < (3 - y), make is_feasible False\n",
    "if (3 - x) > 0 and (3 - x) < (3 - y):\n",
    "    is_feasible = False\n",
    "\n",
    "# If u + v < 0 or > 2, make is_feasible False. \n",
    "if u + v < 0 or u + v > 2:\n",
    "    is_feasible = False\n",
    "\n",
    "print(\"Is this move feasible?\", is_feasible)"
   ]
  },
  {
   "cell_type": "code",
   "execution_count": null,
   "metadata": {},
   "outputs": [],
   "source": []
  }
 ],
 "metadata": {
  "kernelspec": {
   "display_name": "Python 3",
   "language": "python",
   "name": "python3"
  },
  "language_info": {
   "codemirror_mode": {
    "name": "ipython",
    "version": 3
   },
   "file_extension": ".py",
   "mimetype": "text/x-python",
   "name": "python",
   "nbconvert_exporter": "python",
   "pygments_lexer": "ipython3",
   "version": "3.8.3"
  }
 },
 "nbformat": 4,
 "nbformat_minor": 4
}
