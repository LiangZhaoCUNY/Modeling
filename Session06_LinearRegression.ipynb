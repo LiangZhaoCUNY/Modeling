{
 "cells": [
  {
   "cell_type": "markdown",
   "metadata": {},
   "source": [
    "# HiMCM Session 6\n",
    "# Linear Regression Model\n",
    "\n",
    "\n",
    "A **linear relationship** between two variables is one in which the scatterplot of them looks roughly like a line.  **Linear regression** is a method for modelling how a **dependent variable** linearly depends on one or more **independent variables**.  The dependent variable (also called a **response variable** and many other things) is what we are trying to model or predict, and is usually denoted $Y$.  The independent variables (also called **explanatory** or **input variables**) are the information we are using to make the predictiong, and are usually denoted $X_1, X_2, ...$.\n",
    "\n",
    "The linear relationship is: $$Y = \\beta_0 + \\beta_1 X_1 + \\beta_2 X_2 + ... + \\beta_n X_n + \\epsilon$$\n",
    "where $\\epsilon$ (epsilon) represents the error.\n",
    "\n",
    "Here, $Y, X_1, X_2, ..., X_n$ are *random variables* that can take different values with different probabilities.\n",
    "\n",
    "Linear regression finds the coefficients $\\beta_0, \\beta_1, ..., \\beta_n$ so that the sum of the squares of the error term for each data observation is minimized."
   ]
  },
  {
   "cell_type": "markdown",
   "metadata": {},
   "source": [
    "## A Toy Example"
   ]
  },
  {
   "cell_type": "code",
   "execution_count": null,
   "metadata": {},
   "outputs": [],
   "source": [
    "import pandas as pd # data analysis library"
   ]
  },
  {
   "cell_type": "code",
   "execution_count": null,
   "metadata": {},
   "outputs": [],
   "source": [
    "# Generate a toy data set\n",
    "grades = pd.DataFrame({\"HomeworkAvg\": [65, 78, 93, 59, 82],\n",
    "                       \"FinalExam\": [70, 75, 95, 64, 79]})\n",
    "grades"
   ]
  },
  {
   "cell_type": "code",
   "execution_count": null,
   "metadata": {},
   "outputs": [],
   "source": [
    "import matplotlib.pyplot as plt # plotting library"
   ]
  },
  {
   "cell_type": "code",
   "execution_count": null,
   "metadata": {},
   "outputs": [],
   "source": [
    "plt.plot(grades[\"HomeworkAvg\"], grades[\"FinalExam\"], \"gs\")\n",
    "plt.xlabel(\"Homework Average\")\n",
    "plt.ylabel(\"Final Exam Score\")\n",
    "plt.ylim([0, 100])\n",
    "plt.xlim([0, 100])\n",
    "plt.show()"
   ]
  },
  {
   "cell_type": "markdown",
   "metadata": {},
   "source": [
    "Now, use a line to represent the relationship."
   ]
  },
  {
   "cell_type": "code",
   "execution_count": null,
   "metadata": {},
   "outputs": [],
   "source": [
    "# Let's find a line using intuition.\n",
    "# y = mx + b, m --> slope, b --> y-intercept\n",
    "# A reasonable guess is b = 0, m = 1.1\n",
    "# Proposed model: y = 1.1x\n",
    "\n",
    "# visualize the proposed model:\n",
    "# x_coordinates = [0, 100]\n",
    "# y_coordinates = [0, 110]\n",
    "# y_coordinates = []\n",
    "# for x in x_coordinates:\n",
    "#     y = 1.1 * x\n",
    "#     y_coordinates.append(y)\n",
    "# print(y_coordinates)\n",
    "\n",
    "# use numpy arrays to simplify the calculation\n",
    "import numpy as np # library for numerical computations\n",
    "x_coordinates = np.array([0, 100])\n",
    "y_coordinates = x_coordinates * 1.1\n",
    "print(y_coordinates)\n",
    "# draw a red line representing y = 1.1x.\n",
    "\n",
    "plt.plot(x_coordinates, y_coordinates, \"r-\")\n",
    "plt.plot(grades[\"HomeworkAvg\"], grades[\"FinalExam\"], \"gs\")\n",
    "plt.show()\n",
    "# This line is not very close to the points\n",
    "# All points lie below the line"
   ]
  },
  {
   "cell_type": "code",
   "execution_count": null,
   "metadata": {
    "scrolled": true
   },
   "outputs": [],
   "source": [
    "# Introduce a quantitative measure of fitness.\n",
    "# measure = the total error on the data points.\n",
    "# Point 1: x = 65, y = 70, prediction = 1.1 * 65 = 71.5 error = 70 - 71.5 = -1.5\n",
    "# Aggregate all prediction errors:\n",
    "# Mean-absolute-error: sum of absolute values of the errors.\n",
    "# Mean-squared-error: sum of the squares of error.\n",
    "\n",
    "# Let's calcuate the MSE of the model y = 1.1x.\n",
    "grades[\"Prediction\"] = grades[\"HomeworkAvg\"] * 1.1\n",
    "grades[\"SquaredError\"] = (grades[\"Prediction\"] - grades[\"FinalExam\"]) ** 2\n",
    "grades"
   ]
  },
  {
   "cell_type": "code",
   "execution_count": null,
   "metadata": {
    "scrolled": true
   },
   "outputs": [],
   "source": [
    "MSE = np.mean(grades[\"SquaredError\"])\n",
    "print(\"Mean Squared Error:\", MSE)"
   ]
  },
  {
   "cell_type": "markdown",
   "metadata": {},
   "source": [
    "## How to Minimize the MSE?\n",
    "\n",
    "Let's introduce some notations:\n",
    "- Data: \n",
    "    - The first row is denoted $(x_1, y_1)$\n",
    "    - The i-th row is denoted $(x_i, y_i)$\n",
    "    - The last row is denoted $(x_n, y_n)$\n",
    "- Model: $y = mx + b$\n",
    "\n",
    "Now we can express the mean-squared-error function as:\n",
    "$$MSE(m, b) = \\frac{1}{n}\\big((mx_1 + b - y_1) ^ 2 + (mx_2 + b - y_2) ^ 2 + ... + (mx_n + b - y_n) ^ 2\\big)$$\n",
    "Or\n",
    "$$MSE(m, b) = \\frac{1}{n}\\sum_{i=1}^n(mx_i + b - y_i) ^ 2$$\n",
    "\n",
    "Goal:\n",
    "- Find values of m and b so that MSE is minimal.\n",
    "- Find the critical points of the function. \n",
    "- Find m and b so that $\\frac{\\partial MSE}{\\partial m} = \\frac{\\partial MSE}{\\partial b} = 0$\n",
    "- The solution is called the **normal equation** \n",
    "\n",
    "![](https://www.geeksforgeeks.org/wp-content/ql-cache/quicklatex.com-0374abb9d92352e297b8a55567752306_l3.svg)\n",
    "\n",
    "- X: the first column is filled with 1's, the second column is filled with $x_i$'s.\n",
    "- y: a single-column matrix filled with $y_i$'s"
   ]
  },
  {
   "cell_type": "code",
   "execution_count": null,
   "metadata": {},
   "outputs": [],
   "source": [
    "temp = [[1, 2, 3],\n",
    "        [2, 3, 4]]\n",
    "print(temp)"
   ]
  },
  {
   "cell_type": "code",
   "execution_count": null,
   "metadata": {},
   "outputs": [],
   "source": [
    "# Apply the normal equation.\n",
    "X = np.array([[1, 65],\n",
    "              [1, 78],\n",
    "              [1, 93],\n",
    "              [1, 59],\n",
    "              [1, 82]])\n",
    "y = np.array([[70],\n",
    "              [75],\n",
    "              [95],\n",
    "              [64],\n",
    "              [79]])\n",
    "solution = np.linalg.inv(X.T.dot(X)).dot(X.T.dot(y))\n",
    "print(solution)"
   ]
  },
  {
   "cell_type": "code",
   "execution_count": null,
   "metadata": {
    "scrolled": true
   },
   "outputs": [],
   "source": [
    "b = 14.128\n",
    "m = 0.828\n",
    "plt.plot(grades[\"HomeworkAvg\"], grades[\"FinalExam\"], \"gs\")\n",
    "x_coordiantes = np.array([0, 100])\n",
    "y_coordinates = x_coordiantes * m + b\n",
    "plt.plot(x_coordiantes, y_coordinates, \"r-\")\n",
    "plt.show()"
   ]
  },
  {
   "cell_type": "markdown",
   "metadata": {},
   "source": [
    "**Use `statsmodels` library to perform linear regression**"
   ]
  },
  {
   "cell_type": "code",
   "execution_count": null,
   "metadata": {},
   "outputs": [],
   "source": [
    "import statsmodels.formula.api as smf\n",
    "\n",
    "lm = smf.ols('FinalExam ~ HomeworkAvg', grades).fit()"
   ]
  },
  {
   "cell_type": "code",
   "execution_count": null,
   "metadata": {},
   "outputs": [],
   "source": [
    "lm.params"
   ]
  },
  {
   "cell_type": "code",
   "execution_count": null,
   "metadata": {},
   "outputs": [],
   "source": [
    "lm.fittedvalues"
   ]
  },
  {
   "cell_type": "code",
   "execution_count": null,
   "metadata": {
    "scrolled": true
   },
   "outputs": [],
   "source": [
    "lm.summary()"
   ]
  },
  {
   "cell_type": "markdown",
   "metadata": {},
   "source": [
    "**Performance analysis**: How accurate is the linear model?"
   ]
  },
  {
   "cell_type": "code",
   "execution_count": null,
   "metadata": {},
   "outputs": [],
   "source": []
  },
  {
   "cell_type": "markdown",
   "metadata": {},
   "source": [
    "**Sensitivity Analysis:** The relationship between HomeworkAvg and FinalExam is not deterministic. How can we estimate the randomness?"
   ]
  },
  {
   "cell_type": "code",
   "execution_count": null,
   "metadata": {},
   "outputs": [],
   "source": []
  },
  {
   "cell_type": "markdown",
   "metadata": {},
   "source": [
    "**Sensitivity Analysis:** How likely will the relationship remain positive if the exam scores changes a little bit?"
   ]
  },
  {
   "cell_type": "code",
   "execution_count": null,
   "metadata": {},
   "outputs": [],
   "source": []
  },
  {
   "cell_type": "markdown",
   "metadata": {},
   "source": [
    "**Sensitivity Analysis:** What is the range of each parameter value if the exam scores changes a little bit?"
   ]
  },
  {
   "cell_type": "code",
   "execution_count": null,
   "metadata": {},
   "outputs": [],
   "source": []
  },
  {
   "cell_type": "markdown",
   "metadata": {},
   "source": [
    "**Summary:** How did we create the linear regression method?"
   ]
  },
  {
   "cell_type": "markdown",
   "metadata": {},
   "source": [
    "# Predict Boston Housing Prices\n",
    "As an example, we will look at a dataset about Boston housing prices in the 1970s."
   ]
  },
  {
   "cell_type": "code",
   "execution_count": null,
   "metadata": {},
   "outputs": [],
   "source": [
    "# Load the dataset from the sci-kit learn package.\n",
    "from sklearn.datasets import load_boston\n",
    "boston_dict = load_boston()"
   ]
  },
  {
   "cell_type": "code",
   "execution_count": null,
   "metadata": {},
   "outputs": [],
   "source": [
    "# Display the variable boston_dict:\n",
    "boston_dict"
   ]
  },
  {
   "cell_type": "code",
   "execution_count": null,
   "metadata": {},
   "outputs": [],
   "source": [
    "# Display the list of keys\n",
    "boston_dict.keys()"
   ]
  },
  {
   "cell_type": "code",
   "execution_count": null,
   "metadata": {},
   "outputs": [],
   "source": [
    "# Display the value linked to \"feature_names\"\n",
    "boston_dict[\"feature_names\"]"
   ]
  },
  {
   "cell_type": "code",
   "execution_count": null,
   "metadata": {},
   "outputs": [],
   "source": [
    "# This dictionary contains description of the data set\n",
    "print(boston_dict[\"DESCR\"])"
   ]
  },
  {
   "cell_type": "markdown",
   "metadata": {},
   "source": [
    "To better analyze the data, let's convert it into a **Pandas data frame**."
   ]
  },
  {
   "cell_type": "code",
   "execution_count": null,
   "metadata": {},
   "outputs": [],
   "source": [
    "import pandas as pd\n",
    "\n",
    "boston = pd.DataFrame(data=boston_dict.data)"
   ]
  },
  {
   "cell_type": "code",
   "execution_count": null,
   "metadata": {},
   "outputs": [],
   "source": [
    "# Display the data frame\n",
    "boston"
   ]
  },
  {
   "cell_type": "code",
   "execution_count": null,
   "metadata": {},
   "outputs": [],
   "source": [
    "# There are no column names, so let's repeat that command, but telling Pandas \n",
    "# that the column names are in feature_names\n",
    "boston = pd.DataFrame(data=boston_dict.data,\n",
    "                      columns=boston_dict.feature_names)\n",
    "\n",
    "boston"
   ]
  },
  {
   "cell_type": "code",
   "execution_count": null,
   "metadata": {},
   "outputs": [],
   "source": [
    "# So far we have created a data frame with all independent variables.\n",
    "# Let's also add the price data to the data frame.\n",
    "boston[\"price\"] = boston_dict.target \n",
    "\n",
    "# Display the first several rows to verify that the new column was added correctly.\n",
    "boston.head()"
   ]
  },
  {
   "cell_type": "code",
   "execution_count": null,
   "metadata": {},
   "outputs": [],
   "source": [
    "# Let look at the relationship between the price and the average number of rooms (RM)\n",
    "boston.plot.scatter(x=\"RM\", y=\"price\")"
   ]
  },
  {
   "cell_type": "markdown",
   "metadata": {},
   "source": [
    "There seems to be a linear relationship between RM and price. How can we find a line that best describes this relation?\n",
    "- What is the mathematcial expression of a straight line?\n",
    "- Given two different lines, how do we tell which one fits the data better?\n",
    "- How to find the line that best fits the data?\n",
    "\n",
    "Let's perform linear regression using the `statsmodel` library."
   ]
  },
  {
   "cell_type": "code",
   "execution_count": null,
   "metadata": {},
   "outputs": [],
   "source": [
    "import statsmodels.formula.api as smf\n",
    "\n",
    "lm = smf.ols('price ~ RM',boston).fit()\n",
    "lm.summary()"
   ]
  },
  {
   "cell_type": "markdown",
   "metadata": {},
   "source": [
    "## Interpreting the Linear Regression Summary\n",
    "- Dep. Variable\n",
    "- Method\n",
    "- Date and Time\n",
    "- No. Observations\n",
    "- Df Residuals: The degree of freedom\n",
    "- Df Model: The number of dependent variables\n",
    "- **R-squared**: How much of the changes dependent variables is explained by the changes in independent variables\n",
    "- **Adjusted R-squared**: A better performance measure for multiple dependent variables\n",
    "- **Prob(F statistic)**: How likely did this trend occur by pure luck?\n",
    "- **coef**: Estimates of model coefficients\n",
    "- **P > |t|**: How likely the true value of this coefficient is actually zero? This value is call the **p-value**.\n",
    "- [0.025, 0.975]: The confidence interval of the coefficient\n"
   ]
  },
  {
   "cell_type": "code",
   "execution_count": null,
   "metadata": {},
   "outputs": [],
   "source": [
    "# Build a linear model on price and crime rate (CRIM)\n",
    "# Is this a stronger relationship?\n"
   ]
  },
  {
   "cell_type": "code",
   "execution_count": null,
   "metadata": {
    "scrolled": true
   },
   "outputs": [],
   "source": [
    "# Visualize the regression line with data\n",
    "import seaborn as sns\n",
    "\n",
    "sns.regplot(y=\"price\", x=\"RM\", data=boston, fit_reg = True)"
   ]
  },
  {
   "cell_type": "markdown",
   "metadata": {},
   "source": [
    "## Is Linear Regression a Good Choice?\n",
    "\n",
    "The **residuals** are the difference between the actual value of price and the value predicted by the regression line, for each row of the data. If the linear model is a good fit, the histogram should look like a **normal distribution**.\n"
   ]
  },
  {
   "cell_type": "code",
   "execution_count": null,
   "metadata": {},
   "outputs": [],
   "source": [
    "# Display the residuals\n",
    "lm.resid"
   ]
  },
  {
   "cell_type": "code",
   "execution_count": null,
   "metadata": {},
   "outputs": [],
   "source": [
    "lm.resid.hist(bins = 20)"
   ]
  },
  {
   "cell_type": "code",
   "execution_count": null,
   "metadata": {},
   "outputs": [],
   "source": [
    "lm"
   ]
  },
  {
   "cell_type": "markdown",
   "metadata": {},
   "source": [
    "Another good way to check the model performance is to visualize the predicted prices with the true prices."
   ]
  },
  {
   "cell_type": "code",
   "execution_count": null,
   "metadata": {},
   "outputs": [],
   "source": [
    "# Extract model predictions on the data\n",
    "lm.fittedvalues"
   ]
  },
  {
   "cell_type": "code",
   "execution_count": null,
   "metadata": {},
   "outputs": [],
   "source": [
    "# Draw a scatter plot with the true price as the x coordinate and the \n",
    "# predicted price as the y coordinate.\n"
   ]
  },
  {
   "cell_type": "markdown",
   "metadata": {},
   "source": [
    "**Discussion**\n",
    "- If all the prices were predicted correctly, what would this plot have looked like?\n",
    "- Where does the linear model fail badly?"
   ]
  },
  {
   "cell_type": "markdown",
   "metadata": {},
   "source": [
    "# Exercise\n",
    "\n",
    "Build a linear model to describe how pupil-teacher ration (PTRATIO) affects the housing prices.\n",
    "\n",
    "- Perform linear regression and find the expression of the regression line.\n",
    "- Plot the line together with the data\n",
    "- Access whether the linear model properly describes the relationship:\n",
    "    - Is the R-squared value close to 1?\n",
    "    - Are the p-values of coefficients close to zero?\n",
    "    - Is the histogram of the residuals close to a normal distribution?\n",
    "    - Is the true vs. prediction plot close to a diagonal line?"
   ]
  },
  {
   "cell_type": "markdown",
   "metadata": {},
   "source": [
    "# Homework \\#3\n",
    "\n",
    "**Smart Air-Conditioning by Programmable thermostats**\n",
    "\n",
    "No one wants to spend more money than necessary on heating and air conditioning. But, everyone wants to be comfortable and cozy while at home. The development of programmable thermostats was an initial effort to assist in reducing energy costs. With a programmable thermostat, you can manually preset a schedule of temperature increases and decreases for weekdays and weekends, and day and night periods, to keep your home cool or warm when needed, but save energy when not needed. \n",
    "\n",
    "Suppose that you are designing a next-generation smart air-conditioning system for your house. Describe how this system can manage the home temperature automatically so that you and your family can live comfortably while the energy cost get reduced.\n",
    "\n",
    "- Search for information on how existing smart air-conditioning system can achieve.\n",
    "- Describe what information your systems needs know.\n",
    "- Describe how your system determines the home temperature given the information it collects.\n",
    "- Spend **no more than 2 hours** on this assignment.\n",
    "- Write an essay to report your design. Submit to Liang.Zhao1@lehman.cuny.edu before **Thursday, June 24th at 11:59PM**\n",
    "\n",
    "    "
   ]
  },
  {
   "cell_type": "markdown",
   "metadata": {},
   "source": [
    "# Homework \\# 4: Gas Price Prediction\n",
    "\n",
    "Since gas prices can fluctuate significantly from week to week, consumers would like to predict the gas price in the coming week so that they can determine whether to fill up the gas tank now or later.\n",
    "\n",
    "Please develop a model that a consumer living in New York could use to predict the gas price of the next week. You can use the data from the following websites or any other publicly available data such as weather data, economic data, world events, etc.\n",
    "- Weekly gas prices: http://www.eia.gov/dnav/pet/pet_pri_gnd_a_epmr_pte_dpgal_w.htm\n",
    "- Weekly crude oil prices:http://www.eia.gov/dnav/pet/pet_pri_spt_s1_w.htm\n",
    "\n",
    "**Use the 2020 data to build your model and the 2021 data to test your model.** If you find it difficult to handle the data using Python, you can use Microsoft Excel instead.\n",
    "\n",
    "Here is a list of references on creating a prediction model and handle data using Python:\n",
    "- [Python for Data Analysis](https://bedford-computing.co.uk/learning/wp-content/uploads/2015/10/Python-for-Data-Analysis.pdf)\n",
    "- [Lecture Notes on Regression](https://stat.ethz.ch/education/semesters/ss2016/regression/Regression.pdf)\n",
    "\n",
    "Please submit a paper including problem analysis, model construction, and performance analysis to Liang.Zhao1@lehman.cuny.edu before **Tuesday, June 29th at 11:59PM**\n"
   ]
  },
  {
   "cell_type": "code",
   "execution_count": null,
   "metadata": {
    "scrolled": true
   },
   "outputs": [],
   "source": [
    "from datetime import datetime\n",
    "import numpy as np\n",
    "import pandas as pd\n",
    "import matplotlib.pyplot as plt\n",
    "\n",
    "# Load gas prices\n",
    "url = \"https://www.eia.gov/dnav/pet/hist_xls/EMM_EPMR_PTE_SNY_DPGw.xls\"\n",
    "gas = pd.read_excel(url, sheet_name=\"Data 1\", skiprows=2,\n",
    "                    names=[\"Date\", \"Price\"])\n",
    "gas[\"Date\"] = pd.to_datetime(gas[\"Date\"])\n",
    "gas = gas[gas[\"Date\"] > datetime(2020, 1, 1)]\n",
    "gas"
   ]
  },
  {
   "cell_type": "code",
   "execution_count": null,
   "metadata": {},
   "outputs": [],
   "source": [
    "# Load crude oil prices\n",
    "url = \"https://www.eia.gov/dnav/pet/hist_xls/EER_EPMRU_PF4_Y35NY_DPGw.xls\"\n",
    "crude = pd.read_excel(url, sheet_name=\"Data 1\", skiprows=2,\n",
    "                    names=[\"Date\", \"Price\"])\n",
    "crude[\"Date\"] = pd.to_datetime(crude[\"Date\"])\n",
    "crude = crude[crude[\"Date\"] > datetime(2020, 1, 1)]\n",
    "crude"
   ]
  },
  {
   "cell_type": "code",
   "execution_count": null,
   "metadata": {
    "scrolled": true
   },
   "outputs": [],
   "source": [
    "plt.plot(gas[\"Date\"], gas[\"Price\"], label=\"Gas Prices\")\n",
    "plt.plot(crude[\"Date\"], crude[\"Price\"], label=\"Crude Oil Prices\")\n",
    "plt.ylabel(\"Price\")\n",
    "plt.xticks(rotation = 45)\n",
    "plt.legend()\n",
    "plt.show()"
   ]
  }
 ],
 "metadata": {
  "kernelspec": {
   "display_name": "Python 3",
   "language": "python",
   "name": "python3"
  },
  "language_info": {
   "codemirror_mode": {
    "name": "ipython",
    "version": 3
   },
   "file_extension": ".py",
   "mimetype": "text/x-python",
   "name": "python",
   "nbconvert_exporter": "python",
   "pygments_lexer": "ipython3",
   "version": "3.8.3"
  }
 },
 "nbformat": 4,
 "nbformat_minor": 4
}
