{
 "cells": [
  {
   "cell_type": "markdown",
   "metadata": {},
   "source": [
    "# HiMCM Session 6\n",
    "# Linear Regression Model\n",
    "\n",
    "\n",
    "A **linear relationship** between two variables is one in which the scatterplot of them looks roughly like a line.  **Linear regression** is a method for modelling how a **dependent variable** linearly depends on one or more **independent variables**.  The dependent variable (also called a **response variable** and many other things) is what we are trying to model or predict, and is usually denoted $Y$.  The independent variables (also called **explanatory** or **input variables**) are the information we are using to make the predictiong, and are usually denoted $X_1, X_2, ...$.\n",
    "\n",
    "The linear relationship is: $$Y = \\beta_0 + \\beta_1 X_1 + \\beta_2 X_2 + ... + \\beta_n X_n + \\epsilon$$\n",
    "where $\\epsilon$ (epsilon) represents the error.\n",
    "\n",
    "Here, $Y, X_1, X_2, ..., X_n$ are *random variables* that can take different values with different probabilities.\n",
    "\n",
    "Linear regression finds the coefficients $\\beta_0, \\beta_1, ..., \\beta_n$ so that the sum of the squares of the error term for each data observation is minimized."
   ]
  },
  {
   "cell_type": "markdown",
   "metadata": {},
   "source": [
    "## A Toy Example"
   ]
  },
  {
   "cell_type": "code",
   "execution_count": 1,
   "metadata": {},
   "outputs": [],
   "source": [
    "import pandas as pd # data analysis library"
   ]
  },
  {
   "cell_type": "code",
   "execution_count": 2,
   "metadata": {},
   "outputs": [
    {
     "data": {
      "text/html": [
       "<div>\n",
       "<style scoped>\n",
       "    .dataframe tbody tr th:only-of-type {\n",
       "        vertical-align: middle;\n",
       "    }\n",
       "\n",
       "    .dataframe tbody tr th {\n",
       "        vertical-align: top;\n",
       "    }\n",
       "\n",
       "    .dataframe thead th {\n",
       "        text-align: right;\n",
       "    }\n",
       "</style>\n",
       "<table border=\"1\" class=\"dataframe\">\n",
       "  <thead>\n",
       "    <tr style=\"text-align: right;\">\n",
       "      <th></th>\n",
       "      <th>HomeworkAvg</th>\n",
       "      <th>FinalExam</th>\n",
       "    </tr>\n",
       "  </thead>\n",
       "  <tbody>\n",
       "    <tr>\n",
       "      <th>0</th>\n",
       "      <td>65</td>\n",
       "      <td>70</td>\n",
       "    </tr>\n",
       "    <tr>\n",
       "      <th>1</th>\n",
       "      <td>78</td>\n",
       "      <td>75</td>\n",
       "    </tr>\n",
       "    <tr>\n",
       "      <th>2</th>\n",
       "      <td>93</td>\n",
       "      <td>95</td>\n",
       "    </tr>\n",
       "    <tr>\n",
       "      <th>3</th>\n",
       "      <td>59</td>\n",
       "      <td>64</td>\n",
       "    </tr>\n",
       "    <tr>\n",
       "      <th>4</th>\n",
       "      <td>82</td>\n",
       "      <td>79</td>\n",
       "    </tr>\n",
       "  </tbody>\n",
       "</table>\n",
       "</div>"
      ],
      "text/plain": [
       "   HomeworkAvg  FinalExam\n",
       "0           65         70\n",
       "1           78         75\n",
       "2           93         95\n",
       "3           59         64\n",
       "4           82         79"
      ]
     },
     "execution_count": 2,
     "metadata": {},
     "output_type": "execute_result"
    }
   ],
   "source": [
    "# Generate a toy data set\n",
    "grades = pd.DataFrame({\"HomeworkAvg\": [65, 78, 93, 59, 82],\n",
    "                       \"FinalExam\": [70, 75, 95, 64, 79]})\n",
    "grades"
   ]
  },
  {
   "cell_type": "code",
   "execution_count": 3,
   "metadata": {},
   "outputs": [],
   "source": [
    "import matplotlib.pyplot as plt # plotting library"
   ]
  },
  {
   "cell_type": "code",
   "execution_count": 4,
   "metadata": {},
   "outputs": [
    {
     "data": {
      "image/png": "[encoded data removed]",
      "text/plain": [
       "<Figure size 432x288 with 1 Axes>"
      ]
     },
     "metadata": {
      "needs_background": "light"
     },
     "output_type": "display_data"
    }
   ],
   "source": [
    "plt.plot(grades[\"HomeworkAvg\"], grades[\"FinalExam\"], \"gs\")\n",
    "plt.xlabel(\"Homework Average\")\n",
    "plt.ylabel(\"Final Exam Score\")\n",
    "plt.ylim([0, 100])\n",
    "plt.xlim([0, 100])\n",
    "plt.show()"
   ]
  },
  {
   "cell_type": "markdown",
   "metadata": {},
   "source": [
    "Now, use a line to represent the relationship."
   ]
  },
  {
   "cell_type": "code",
   "execution_count": 5,
   "metadata": {},
   "outputs": [
    {
     "name": "stdout",
     "output_type": "stream",
     "text": [
      "[  0. 110.]\n"
     ]
    },
    {
     "data": {
      "image/png": "[encoded data removed]",
      "text/plain": [
       "<Figure size 432x288 with 1 Axes>"
      ]
     },
     "metadata": {
      "needs_background": "light"
     },
     "output_type": "display_data"
    }
   ],
   "source": [
    "# Let's find a line using intuition.\n",
    "# y = mx + b, m --> slope, b --> y-intercept\n",
    "# A reasonable guess is b = 0, m = 1.1\n",
    "# Proposed model: y = 1.1x\n",
    "\n",
    "# visualize the proposed model:\n",
    "# x_coordinates = [0, 100]\n",
    "# y_coordinates = [0, 110]\n",
    "# y_coordinates = []\n",
    "# for x in x_coordinates:\n",
    "#     y = 1.1 * x\n",
    "#     y_coordinates.append(y)\n",
    "# print(y_coordinates)\n",
    "\n",
    "# use numpy arrays to simplify the calculation\n",
    "import numpy as np # library for numerical computations\n",
    "x_coordinates = np.array([0, 100])\n",
    "y_coordinates = x_coordinates * 1.1\n",
    "print(y_coordinates)\n",
    "# draw a red line representing y = 1.1x.\n",
    "\n",
    "plt.plot(x_coordinates, y_coordinates, \"r-\")\n",
    "plt.plot(grades[\"HomeworkAvg\"], grades[\"FinalExam\"], \"gs\")\n",
    "plt.show()\n",
    "# This line is not very close to the points\n",
    "# All points lie below the line"
   ]
  },
  {
   "cell_type": "code",
   "execution_count": 6,
   "metadata": {
    "scrolled": true
   },
   "outputs": [
    {
     "data": {
      "text/html": [
       "<div>\n",
       "<style scoped>\n",
       "    .dataframe tbody tr th:only-of-type {\n",
       "        vertical-align: middle;\n",
       "    }\n",
       "\n",
       "    .dataframe tbody tr th {\n",
       "        vertical-align: top;\n",
       "    }\n",
       "\n",
       "    .dataframe thead th {\n",
       "        text-align: right;\n",
       "    }\n",
       "</style>\n",
       "<table border=\"1\" class=\"dataframe\">\n",
       "  <thead>\n",
       "    <tr style=\"text-align: right;\">\n",
       "      <th></th>\n",
       "      <th>HomeworkAvg</th>\n",
       "      <th>FinalExam</th>\n",
       "      <th>Prediction</th>\n",
       "      <th>SquaredError</th>\n",
       "    </tr>\n",
       "  </thead>\n",
       "  <tbody>\n",
       "    <tr>\n",
       "      <th>0</th>\n",
       "      <td>65</td>\n",
       "      <td>70</td>\n",
       "      <td>71.5</td>\n",
       "      <td>2.25</td>\n",
       "    </tr>\n",
       "    <tr>\n",
       "      <th>1</th>\n",
       "      <td>78</td>\n",
       "      <td>75</td>\n",
       "      <td>85.8</td>\n",
       "      <td>116.64</td>\n",
       "    </tr>\n",
       "    <tr>\n",
       "      <th>2</th>\n",
       "      <td>93</td>\n",
       "      <td>95</td>\n",
       "      <td>102.3</td>\n",
       "      <td>53.29</td>\n",
       "    </tr>\n",
       "    <tr>\n",
       "      <th>3</th>\n",
       "      <td>59</td>\n",
       "      <td>64</td>\n",
       "      <td>64.9</td>\n",
       "      <td>0.81</td>\n",
       "    </tr>\n",
       "    <tr>\n",
       "      <th>4</th>\n",
       "      <td>82</td>\n",
       "      <td>79</td>\n",
       "      <td>90.2</td>\n",
       "      <td>125.44</td>\n",
       "    </tr>\n",
       "  </tbody>\n",
       "</table>\n",
       "</div>"
      ],
      "text/plain": [
       "   HomeworkAvg  FinalExam  Prediction  SquaredError\n",
       "0           65         70        71.5          2.25\n",
       "1           78         75        85.8        116.64\n",
       "2           93         95       102.3         53.29\n",
       "3           59         64        64.9          0.81\n",
       "4           82         79        90.2        125.44"
      ]
     },
     "execution_count": 6,
     "metadata": {},
     "output_type": "execute_result"
    }
   ],
   "source": [
    "# Introduce a quantitative measure of fitness.\n",
    "# measure = the total error on the data points.\n",
    "# Point 1: x = 65, y = 70, prediction = 1.1 * 65 = 71.5 error = 70 - 71.5 = -1.5\n",
    "# Aggregate all prediction errors:\n",
    "# Mean-absolute-error: the average of absolute values of the errors.\n",
    "# Mean-squared-error: the average of the squares of error.\n",
    "\n",
    "# Let's calcuate the MSE of the model y = 1.1x.\n",
    "grades[\"Prediction\"] = grades[\"HomeworkAvg\"] * 1.1\n",
    "grades[\"SquaredError\"] = (grades[\"Prediction\"] - grades[\"FinalExam\"]) ** 2\n",
    "grades"
   ]
  },
  {
   "cell_type": "code",
   "execution_count": 7,
   "metadata": {
    "scrolled": true
   },
   "outputs": [
    {
     "name": "stdout",
     "output_type": "stream",
     "text": [
      "Mean Squared Error: 59.68600000000009\n"
     ]
    }
   ],
   "source": [
    "MSE = np.mean(grades[\"SquaredError\"])\n",
    "print(\"Mean Squared Error:\", MSE)"
   ]
  },
  {
   "cell_type": "markdown",
   "metadata": {},
   "source": [
    "## How to Minimize the MSE?\n",
    "\n",
    "Let's introduce some notations:\n",
    "- Data: \n",
    "    - The first row is denoted $(x_1, y_1)$\n",
    "    - The i-th row is denoted $(x_i, y_i)$\n",
    "    - The last row is denoted $(x_n, y_n)$\n",
    "- Model: $y = mx + b$\n",
    "\n",
    "Now we can express the mean-squared-error function as:\n",
    "$$MSE(m, b) = \\frac{1}{n}\\big((mx_1 + b - y_1) ^ 2 + (mx_2 + b - y_2) ^ 2 + ... + (mx_n + b - y_n) ^ 2\\big)$$\n",
    "Or\n",
    "$$MSE(m, b) = \\frac{1}{n}\\sum_{i=1}^n(mx_i + b - y_i) ^ 2$$\n",
    "\n",
    "Goal:\n",
    "- Find values of m and b so that MSE is minimal.\n",
    "- Find the critical points of the function. \n",
    "- Find m and b so that $\\frac{\\partial MSE}{\\partial m} = \\frac{\\partial MSE}{\\partial b} = 0$\n",
    "- The solution is called the **normal equation** \n",
    "\n",
    "![](https://www.geeksforgeeks.org/wp-content/ql-cache/quicklatex.com-0374abb9d92352e297b8a55567752306_l3.svg)\n",
    "\n",
    "- X: the first column is filled with 1's, the second column is filled with $x_i$'s.\n",
    "- y: a single-column matrix filled with $y_i$'s"
   ]
  },
  {
   "cell_type": "code",
   "execution_count": null,
   "metadata": {},
   "outputs": [],
   "source": [
    "temp = [[1, 2, 3],\n",
    "        [2, 3, 4]]\n",
    "print(temp)"
   ]
  },
  {
   "cell_type": "code",
   "execution_count": null,
   "metadata": {},
   "outputs": [],
   "source": [
    "# Apply the normal equation.\n",
    "X = np.array([[1, 65],\n",
    "              [1, 78],\n",
    "              [1, 93],\n",
    "              [1, 59],\n",
    "              [1, 82]])\n",
    "y = np.array([[70],\n",
    "              [75],\n",
    "              [95],\n",
    "              [64],\n",
    "              [79]])\n",
    "solution = np.linalg.inv(X.T.dot(X)).dot(X.T.dot(y))\n",
    "print(solution)"
   ]
  },
  {
   "cell_type": "code",
   "execution_count": 8,
   "metadata": {
    "scrolled": true
   },
   "outputs": [
    {
     "data": {
      "image/png": "[encoded data removed]",
      "text/plain": [
       "<Figure size 432x288 with 1 Axes>"
      ]
     },
     "metadata": {
      "needs_background": "light"
     },
     "output_type": "display_data"
    }
   ],
   "source": [
    "b = 14.128\n",
    "m = 0.828\n",
    "plt.plot(grades[\"HomeworkAvg\"], grades[\"FinalExam\"], \"gs\")\n",
    "x_coordiantes = np.array([0, 100])\n",
    "y_coordinates = x_coordiantes * m + b\n",
    "plt.plot(x_coordiantes, y_coordinates, \"r-\")\n",
    "plt.show()"
   ]
  },
  {
   "cell_type": "markdown",
   "metadata": {},
   "source": [
    "**Use `statsmodels` library to perform linear regression**"
   ]
  },
  {
   "cell_type": "code",
   "execution_count": 9,
   "metadata": {},
   "outputs": [],
   "source": [
    "import statsmodels.formula.api as smf\n",
    "\n",
    "lm = smf.ols('FinalExam ~ HomeworkAvg', grades).fit()"
   ]
  },
  {
   "cell_type": "code",
   "execution_count": 10,
   "metadata": {},
   "outputs": [
    {
     "data": {
      "text/plain": [
       "Intercept      14.128052\n",
       "HomeworkAvg     0.828540\n",
       "dtype: float64"
      ]
     },
     "execution_count": 10,
     "metadata": {},
     "output_type": "execute_result"
    }
   ],
   "source": [
    "lm.params"
   ]
  },
  {
   "cell_type": "code",
   "execution_count": 11,
   "metadata": {},
   "outputs": [
    {
     "data": {
      "text/plain": [
       "0    67.983180\n",
       "1    78.754205\n",
       "2    91.182311\n",
       "3    63.011937\n",
       "4    82.068367\n",
       "dtype: float64"
      ]
     },
     "execution_count": 11,
     "metadata": {},
     "output_type": "execute_result"
    }
   ],
   "source": [
    "lm.fittedvalues"
   ]
  },
  {
   "cell_type": "code",
   "execution_count": 12,
   "metadata": {
    "scrolled": true
   },
   "outputs": [
    {
     "name": "stderr",
     "output_type": "stream",
     "text": [
      "C:\\Users\\lzhao\\anaconda3\\lib\\site-packages\\statsmodels\\stats\\stattools.py:70: ValueWarning: omni_normtest is not valid with less than 8 observations; 5 samples were given.\n",
      "  warn(\"omni_normtest is not valid with less than 8 observations; %i \"\n"
     ]
    },
    {
     "data": {
      "text/html": [
       "<table class=\"simpletable\">\n",
       "<caption>OLS Regression Results</caption>\n",
       "<tr>\n",
       "  <th>Dep. Variable:</th>        <td>FinalExam</td>    <th>  R-squared:         </th> <td>   0.921</td>\n",
       "</tr>\n",
       "<tr>\n",
       "  <th>Model:</th>                   <td>OLS</td>       <th>  Adj. R-squared:    </th> <td>   0.895</td>\n",
       "</tr>\n",
       "<tr>\n",
       "  <th>Method:</th>             <td>Least Squares</td>  <th>  F-statistic:       </th> <td>   35.20</td>\n",
       "</tr>\n",
       "<tr>\n",
       "  <th>Date:</th>             <td>Sat, 26 Jun 2021</td> <th>  Prob (F-statistic):</th>  <td>0.00957</td>\n",
       "</tr>\n",
       "<tr>\n",
       "  <th>Time:</th>                 <td>21:54:35</td>     <th>  Log-Likelihood:    </th> <td> -12.482</td>\n",
       "</tr>\n",
       "<tr>\n",
       "  <th>No. Observations:</th>      <td>     5</td>      <th>  AIC:               </th> <td>   28.96</td>\n",
       "</tr>\n",
       "<tr>\n",
       "  <th>Df Residuals:</th>          <td>     3</td>      <th>  BIC:               </th> <td>   28.18</td>\n",
       "</tr>\n",
       "<tr>\n",
       "  <th>Df Model:</th>              <td>     1</td>      <th>                     </th>     <td> </td>   \n",
       "</tr>\n",
       "<tr>\n",
       "  <th>Covariance Type:</th>      <td>nonrobust</td>    <th>                     </th>     <td> </td>   \n",
       "</tr>\n",
       "</table>\n",
       "<table class=\"simpletable\">\n",
       "<tr>\n",
       "       <td></td>          <th>coef</th>     <th>std err</th>      <th>t</th>      <th>P>|t|</th>  <th>[0.025</th>    <th>0.975]</th>  \n",
       "</tr>\n",
       "<tr>\n",
       "  <th>Intercept</th>   <td>   14.1281</td> <td>   10.665</td> <td>    1.325</td> <td> 0.277</td> <td>  -19.812</td> <td>   48.068</td>\n",
       "</tr>\n",
       "<tr>\n",
       "  <th>HomeworkAvg</th> <td>    0.8285</td> <td>    0.140</td> <td>    5.933</td> <td> 0.010</td> <td>    0.384</td> <td>    1.273</td>\n",
       "</tr>\n",
       "</table>\n",
       "<table class=\"simpletable\">\n",
       "<tr>\n",
       "  <th>Omnibus:</th>       <td>   nan</td> <th>  Durbin-Watson:     </th> <td>   2.669</td>\n",
       "</tr>\n",
       "<tr>\n",
       "  <th>Prob(Omnibus):</th> <td>   nan</td> <th>  Jarque-Bera (JB):  </th> <td>   0.555</td>\n",
       "</tr>\n",
       "<tr>\n",
       "  <th>Skew:</th>          <td>-0.134</td> <th>  Prob(JB):          </th> <td>   0.758</td>\n",
       "</tr>\n",
       "<tr>\n",
       "  <th>Kurtosis:</th>      <td> 1.390</td> <th>  Cond. No.          </th> <td>    480.</td>\n",
       "</tr>\n",
       "</table><br/><br/>Warnings:<br/>[1] Standard Errors assume that the covariance matrix of the errors is correctly specified."
      ],
      "text/plain": [
       "<class 'statsmodels.iolib.summary.Summary'>\n",
       "\"\"\"\n",
       "                            OLS Regression Results                            \n",
       "==============================================================================\n",
       "Dep. Variable:              FinalExam   R-squared:                       0.921\n",
       "Model:                            OLS   Adj. R-squared:                  0.895\n",
       "Method:                 Least Squares   F-statistic:                     35.20\n",
       "Date:                Sat, 26 Jun 2021   Prob (F-statistic):            0.00957\n",
       "Time:                        21:54:35   Log-Likelihood:                -12.482\n",
       "No. Observations:                   5   AIC:                             28.96\n",
       "Df Residuals:                       3   BIC:                             28.18\n",
       "Df Model:                           1                                         \n",
       "Covariance Type:            nonrobust                                         \n",
       "===============================================================================\n",
       "                  coef    std err          t      P>|t|      [0.025      0.975]\n",
       "-------------------------------------------------------------------------------\n",
       "Intercept      14.1281     10.665      1.325      0.277     -19.812      48.068\n",
       "HomeworkAvg     0.8285      0.140      5.933      0.010       0.384       1.273\n",
       "==============================================================================\n",
       "Omnibus:                          nan   Durbin-Watson:                   2.669\n",
       "Prob(Omnibus):                    nan   Jarque-Bera (JB):                0.555\n",
       "Skew:                          -0.134   Prob(JB):                        0.758\n",
       "Kurtosis:                       1.390   Cond. No.                         480.\n",
       "==============================================================================\n",
       "\n",
       "Warnings:\n",
       "[1] Standard Errors assume that the covariance matrix of the errors is correctly specified.\n",
       "\"\"\""
      ]
     },
     "execution_count": 12,
     "metadata": {},
     "output_type": "execute_result"
    }
   ],
   "source": [
    "lm.summary()"
   ]
  },
  {
   "cell_type": "markdown",
   "metadata": {},
   "source": [
    "**Performance analysis**: How accurate is the linear model?\n",
    "\n",
    "- How much better is this model comparing to predicting using the average of exam scores?\n",
    "- Use additional data to test the performance."
   ]
  },
  {
   "cell_type": "code",
   "execution_count": 22,
   "metadata": {
    "scrolled": false
   },
   "outputs": [
    {
     "name": "stdout",
     "output_type": "stream",
     "text": [
      "76.6\n",
      "0.9214721240069411\n"
     ]
    }
   ],
   "source": [
    "avg_exam_score = np.mean(grades['FinalExam'])\n",
    "print(avg_exam_score)\n",
    "\n",
    "grades[\"y_avg\"] = avg_exam_score\n",
    "grades\n",
    "\n",
    "grades[\"(FinalExam - Prediction)^2\"] = \\\n",
    "    (grades['FinalExam'] - lm.fittedvalues) ** 2\n",
    "\n",
    "grades[\"(FinalExam - y_avg)^2\"] = (grades['FinalExam'] - grades['y_avg']) ** 2\n",
    "grades\n",
    "\n",
    "r_squared = 1 - np.sum(grades[\"(FinalExam - Prediction)^2\"]) / np.sum(grades[\"(FinalExam - y_avg)^2\"])\n",
    "print(r_squared)"
   ]
  },
  {
   "cell_type": "code",
   "execution_count": 23,
   "metadata": {
    "scrolled": true
   },
   "outputs": [
    {
     "data": {
      "text/html": [
       "<div>\n",
       "<style scoped>\n",
       "    .dataframe tbody tr th:only-of-type {\n",
       "        vertical-align: middle;\n",
       "    }\n",
       "\n",
       "    .dataframe tbody tr th {\n",
       "        vertical-align: top;\n",
       "    }\n",
       "\n",
       "    .dataframe thead th {\n",
       "        text-align: right;\n",
       "    }\n",
       "</style>\n",
       "<table border=\"1\" class=\"dataframe\">\n",
       "  <thead>\n",
       "    <tr style=\"text-align: right;\">\n",
       "      <th></th>\n",
       "      <th>HomeworkAvg</th>\n",
       "      <th>FinalExam</th>\n",
       "      <th>Prediction</th>\n",
       "      <th>SquaredError</th>\n",
       "      <th>y_avg</th>\n",
       "      <th>(Prediction - y_avg)^2</th>\n",
       "      <th>(FinalExam - y_avg)^2</th>\n",
       "      <th>(FinalExam - Prediction)^2</th>\n",
       "    </tr>\n",
       "  </thead>\n",
       "  <tbody>\n",
       "    <tr>\n",
       "      <th>0</th>\n",
       "      <td>65</td>\n",
       "      <td>70</td>\n",
       "      <td>71.5</td>\n",
       "      <td>2.25</td>\n",
       "      <td>76.6</td>\n",
       "      <td>26.01</td>\n",
       "      <td>43.56</td>\n",
       "      <td>4.067565</td>\n",
       "    </tr>\n",
       "    <tr>\n",
       "      <th>1</th>\n",
       "      <td>78</td>\n",
       "      <td>75</td>\n",
       "      <td>85.8</td>\n",
       "      <td>116.64</td>\n",
       "      <td>76.6</td>\n",
       "      <td>84.64</td>\n",
       "      <td>2.56</td>\n",
       "      <td>14.094056</td>\n",
       "    </tr>\n",
       "    <tr>\n",
       "      <th>2</th>\n",
       "      <td>93</td>\n",
       "      <td>95</td>\n",
       "      <td>102.3</td>\n",
       "      <td>53.29</td>\n",
       "      <td>76.6</td>\n",
       "      <td>660.49</td>\n",
       "      <td>338.56</td>\n",
       "      <td>14.574746</td>\n",
       "    </tr>\n",
       "    <tr>\n",
       "      <th>3</th>\n",
       "      <td>59</td>\n",
       "      <td>64</td>\n",
       "      <td>64.9</td>\n",
       "      <td>0.81</td>\n",
       "      <td>76.6</td>\n",
       "      <td>136.89</td>\n",
       "      <td>158.76</td>\n",
       "      <td>0.976268</td>\n",
       "    </tr>\n",
       "    <tr>\n",
       "      <th>4</th>\n",
       "      <td>82</td>\n",
       "      <td>79</td>\n",
       "      <td>90.2</td>\n",
       "      <td>125.44</td>\n",
       "      <td>76.6</td>\n",
       "      <td>184.96</td>\n",
       "      <td>5.76</td>\n",
       "      <td>9.414875</td>\n",
       "    </tr>\n",
       "  </tbody>\n",
       "</table>\n",
       "</div>"
      ],
      "text/plain": [
       "   HomeworkAvg  FinalExam  Prediction  SquaredError  y_avg  \\\n",
       "0           65         70        71.5          2.25   76.6   \n",
       "1           78         75        85.8        116.64   76.6   \n",
       "2           93         95       102.3         53.29   76.6   \n",
       "3           59         64        64.9          0.81   76.6   \n",
       "4           82         79        90.2        125.44   76.6   \n",
       "\n",
       "   (Prediction - y_avg)^2  (FinalExam - y_avg)^2  (FinalExam - Prediction)^2  \n",
       "0                   26.01                  43.56                    4.067565  \n",
       "1                   84.64                   2.56                   14.094056  \n",
       "2                  660.49                 338.56                   14.574746  \n",
       "3                  136.89                 158.76                    0.976268  \n",
       "4                  184.96                   5.76                    9.414875  "
      ]
     },
     "execution_count": 23,
     "metadata": {},
     "output_type": "execute_result"
    }
   ],
   "source": [
    "grades"
   ]
  },
  {
   "cell_type": "code",
   "execution_count": 25,
   "metadata": {},
   "outputs": [
    {
     "data": {
      "text/plain": [
       "8.625501899077591"
      ]
     },
     "execution_count": 25,
     "metadata": {},
     "output_type": "execute_result"
    }
   ],
   "source": [
    "np.mean(grades['(FinalExam - Prediction)^2'])"
   ]
  },
  {
   "cell_type": "markdown",
   "metadata": {},
   "source": [
    "**Sensitivity Analysis:** The relationship between HomeworkAvg and FinalExam is not deterministic. How can we estimate the randomness?"
   ]
  },
  {
   "cell_type": "code",
   "execution_count": 26,
   "metadata": {},
   "outputs": [
    {
     "data": {
      "image/png": "[encoded data removed]",
      "text/plain": [
       "<Figure size 432x288 with 1 Axes>"
      ]
     },
     "metadata": {
      "needs_background": "light"
     },
     "output_type": "display_data"
    }
   ],
   "source": [
    "# in a alternative universe, the exam scores are a bit different:\n",
    "grades = pd.DataFrame({\"HomeworkAvg\": [65, 78, 93, 59, 82],\n",
    "                       \"FinalExam\": [70, 75, 59, 79, 79]})\n",
    "plt.plot(grades[\"HomeworkAvg\"], grades[\"FinalExam\"], \"gs\")\n",
    "\n",
    "plt.show()"
   ]
  },
  {
   "cell_type": "markdown",
   "metadata": {},
   "source": [
    "**Sensitivity Analysis:** How likely will the relationship remain positive if the exam scores changes a little bit?"
   ]
  },
  {
   "cell_type": "code",
   "execution_count": 38,
   "metadata": {},
   "outputs": [
    {
     "data": {
      "text/html": [
       "<div>\n",
       "<style scoped>\n",
       "    .dataframe tbody tr th:only-of-type {\n",
       "        vertical-align: middle;\n",
       "    }\n",
       "\n",
       "    .dataframe tbody tr th {\n",
       "        vertical-align: top;\n",
       "    }\n",
       "\n",
       "    .dataframe thead th {\n",
       "        text-align: right;\n",
       "    }\n",
       "</style>\n",
       "<table border=\"1\" class=\"dataframe\">\n",
       "  <thead>\n",
       "    <tr style=\"text-align: right;\">\n",
       "      <th></th>\n",
       "      <th>HomeworkAvg</th>\n",
       "      <th>FinalExam</th>\n",
       "      <th>Prediction</th>\n",
       "    </tr>\n",
       "  </thead>\n",
       "  <tbody>\n",
       "    <tr>\n",
       "      <th>0</th>\n",
       "      <td>65</td>\n",
       "      <td>70</td>\n",
       "      <td>67.983180</td>\n",
       "    </tr>\n",
       "    <tr>\n",
       "      <th>1</th>\n",
       "      <td>78</td>\n",
       "      <td>75</td>\n",
       "      <td>78.754205</td>\n",
       "    </tr>\n",
       "    <tr>\n",
       "      <th>2</th>\n",
       "      <td>93</td>\n",
       "      <td>59</td>\n",
       "      <td>91.182311</td>\n",
       "    </tr>\n",
       "    <tr>\n",
       "      <th>3</th>\n",
       "      <td>59</td>\n",
       "      <td>79</td>\n",
       "      <td>63.011937</td>\n",
       "    </tr>\n",
       "    <tr>\n",
       "      <th>4</th>\n",
       "      <td>82</td>\n",
       "      <td>79</td>\n",
       "      <td>82.068367</td>\n",
       "    </tr>\n",
       "  </tbody>\n",
       "</table>\n",
       "</div>"
      ],
      "text/plain": [
       "   HomeworkAvg  FinalExam  Prediction\n",
       "0           65         70   67.983180\n",
       "1           78         75   78.754205\n",
       "2           93         59   91.182311\n",
       "3           59         79   63.011937\n",
       "4           82         79   82.068367"
      ]
     },
     "execution_count": 38,
     "metadata": {},
     "output_type": "execute_result"
    }
   ],
   "source": [
    "grades"
   ]
  },
  {
   "cell_type": "code",
   "execution_count": 39,
   "metadata": {},
   "outputs": [
    {
     "name": "stdout",
     "output_type": "stream",
     "text": [
      "8.625501899077593\n",
      "Standard deviation: 2.936920478848141\n"
     ]
    }
   ],
   "source": [
    "# Let's say Student 1 took 5 similar tests, and \n",
    "# his scores are 70, 68, 75, 74, 69.\n",
    "# How can we measure the randomness?\n",
    "\n",
    "# Student 2 took 5 tests and scores are 90, 60, 75, 89, 62\n",
    "\n",
    "# variance: average of squares of differences between values and the mean\n",
    "# variance = average of (x_i - x_mean) ** 2\n",
    "# standard deviation: square root of variance\n",
    "\n",
    "# For linear regression, let's estimate the variance of the error\n",
    "grades = pd.DataFrame({\"HomeworkAvg\": [65, 78, 93, 59, 82],\n",
    "                       \"FinalExam\": [70, 75, 95, 64, 79]})\n",
    "grades[\"Prediction\"] = lm.fittedvalues\n",
    "variance = np.var(grades[\"FinalExam\"] - grades[\"Prediction\"])\n",
    "std = np.std(grades[\"FinalExam\"] - grades[\"Prediction\"])\n",
    "print(variance)\n",
    "print(\"Standard deviation:\", std)"
   ]
  },
  {
   "cell_type": "markdown",
   "metadata": {},
   "source": [
    "**Sensitivity Analysis:** What is the range of each parameter value if the exam scores changes a little bit?"
   ]
  },
  {
   "cell_type": "code",
   "execution_count": 56,
   "metadata": {},
   "outputs": [
    {
     "data": {
      "text/plain": [
       "Intercept      12.677393\n",
       "HomeworkAvg     0.821071\n",
       "dtype: float64"
      ]
     },
     "execution_count": 56,
     "metadata": {},
     "output_type": "execute_result"
    }
   ],
   "source": [
    "# Let's add some random perturbations to the original datasets.\n",
    "new_grades = pd.DataFrame({\"HomeworkAvg\": [65, 78, 93, 59, 82],\n",
    "                       \"FinalExam\": [70, 75, 95, 64, 79]})\n",
    "new_grades['FinalExam'] = new_grades['FinalExam'] + np.random.randn(5) * std\n",
    "\n",
    "new_lm = smf.ols(\"FinalExam ~ HomeworkAvg\", new_grades).fit()\n",
    "new_lm.params"
   ]
  },
  {
   "cell_type": "code",
   "execution_count": 51,
   "metadata": {},
   "outputs": [
    {
     "data": {
      "image/png": "[encoded data removed]",
      "text/plain": [
       "<Figure size 432x288 with 1 Axes>"
      ]
     },
     "metadata": {
      "needs_background": "light"
     },
     "output_type": "display_data"
    }
   ],
   "source": [
    "plt.plot(new_grades[\"HomeworkAvg\"], new_grades[\"FinalExam\"], \"gs\")\n",
    "\n",
    "plt.show()"
   ]
  },
  {
   "cell_type": "markdown",
   "metadata": {},
   "source": [
    "**Summary:** How did we create the linear regression method?"
   ]
  },
  {
   "cell_type": "markdown",
   "metadata": {},
   "source": [
    "# Predict Boston Housing Prices\n",
    "As an example, we will look at a dataset about Boston housing prices in the 1970s."
   ]
  },
  {
   "cell_type": "code",
   "execution_count": null,
   "metadata": {},
   "outputs": [],
   "source": [
    "# Load the dataset from the sci-kit learn package.\n",
    "from sklearn.datasets import load_boston\n",
    "boston_dict = load_boston()"
   ]
  },
  {
   "cell_type": "code",
   "execution_count": null,
   "metadata": {},
   "outputs": [],
   "source": [
    "# Display the variable boston_dict:\n",
    "boston_dict"
   ]
  },
  {
   "cell_type": "code",
   "execution_count": null,
   "metadata": {},
   "outputs": [],
   "source": [
    "# Display the list of keys\n",
    "boston_dict.keys()"
   ]
  },
  {
   "cell_type": "code",
   "execution_count": null,
   "metadata": {},
   "outputs": [],
   "source": [
    "# Display the value linked to \"feature_names\"\n",
    "boston_dict[\"feature_names\"]"
   ]
  },
  {
   "cell_type": "code",
   "execution_count": null,
   "metadata": {},
   "outputs": [],
   "source": [
    "# This dictionary contains description of the data set\n",
    "print(boston_dict[\"DESCR\"])"
   ]
  },
  {
   "cell_type": "markdown",
   "metadata": {},
   "source": [
    "To better analyze the data, let's convert it into a **Pandas data frame**."
   ]
  },
  {
   "cell_type": "code",
   "execution_count": null,
   "metadata": {},
   "outputs": [],
   "source": [
    "import pandas as pd\n",
    "\n",
    "boston = pd.DataFrame(data=boston_dict.data)"
   ]
  },
  {
   "cell_type": "code",
   "execution_count": null,
   "metadata": {},
   "outputs": [],
   "source": [
    "# Display the data frame\n",
    "boston"
   ]
  },
  {
   "cell_type": "code",
   "execution_count": null,
   "metadata": {},
   "outputs": [],
   "source": [
    "# There are no column names, so let's repeat that command, but telling Pandas \n",
    "# that the column names are in feature_names\n",
    "boston = pd.DataFrame(data=boston_dict.data,\n",
    "                      columns=boston_dict.feature_names)\n",
    "\n",
    "boston"
   ]
  },
  {
   "cell_type": "code",
   "execution_count": null,
   "metadata": {},
   "outputs": [],
   "source": [
    "# So far we have created a data frame with all independent variables.\n",
    "# Let's also add the price data to the data frame.\n",
    "boston[\"price\"] = boston_dict.target \n",
    "\n",
    "# Display the first several rows to verify that the new column was added correctly.\n",
    "boston.head()"
   ]
  },
  {
   "cell_type": "code",
   "execution_count": null,
   "metadata": {},
   "outputs": [],
   "source": [
    "# Let look at the relationship between the price and the average number of rooms (RM)\n",
    "boston.plot.scatter(x=\"RM\", y=\"price\")"
   ]
  },
  {
   "cell_type": "markdown",
   "metadata": {},
   "source": [
    "There seems to be a linear relationship between RM and price. How can we find a line that best describes this relation?\n",
    "- What is the mathematcial expression of a straight line?\n",
    "- Given two different lines, how do we tell which one fits the data better?\n",
    "- How to find the line that best fits the data?\n",
    "\n",
    "Let's perform linear regression using the `statsmodel` library."
   ]
  },
  {
   "cell_type": "code",
   "execution_count": null,
   "metadata": {},
   "outputs": [],
   "source": [
    "import statsmodels.formula.api as smf\n",
    "\n",
    "lm = smf.ols('price ~ RM',boston).fit()\n",
    "lm.summary()"
   ]
  },
  {
   "cell_type": "markdown",
   "metadata": {},
   "source": [
    "## Interpreting the Linear Regression Summary\n",
    "- Dep. Variable\n",
    "- Method\n",
    "- Date and Time\n",
    "- No. Observations\n",
    "- Df Residuals: The degree of freedom\n",
    "- Df Model: The number of dependent variables\n",
    "- **R-squared**: How much of the changes dependent variables is explained by the changes in independent variables\n",
    "- **Adjusted R-squared**: A better performance measure for multiple dependent variables\n",
    "- **Prob(F statistic)**: How likely did this trend occur by pure luck?\n",
    "- **coef**: Estimates of model coefficients\n",
    "- **P > |t|**: How likely the true value of this coefficient is actually zero? This value is call the **p-value**.\n",
    "- [0.025, 0.975]: The confidence interval of the coefficient\n"
   ]
  },
  {
   "cell_type": "code",
   "execution_count": null,
   "metadata": {},
   "outputs": [],
   "source": [
    "# Build a linear model on price and crime rate (CRIM)\n",
    "# Is this a stronger relationship?\n"
   ]
  },
  {
   "cell_type": "code",
   "execution_count": null,
   "metadata": {
    "scrolled": true
   },
   "outputs": [],
   "source": [
    "# Visualize the regression line with data\n",
    "import seaborn as sns\n",
    "\n",
    "sns.regplot(y=\"price\", x=\"RM\", data=boston, fit_reg = True)"
   ]
  },
  {
   "cell_type": "markdown",
   "metadata": {},
   "source": [
    "## Is Linear Regression a Good Choice?\n",
    "\n",
    "The **residuals** are the difference between the actual value of price and the value predicted by the regression line, for each row of the data. If the linear model is a good fit, the histogram should look like a **normal distribution**.\n"
   ]
  },
  {
   "cell_type": "code",
   "execution_count": null,
   "metadata": {},
   "outputs": [],
   "source": [
    "# Display the residuals\n",
    "lm.resid"
   ]
  },
  {
   "cell_type": "code",
   "execution_count": null,
   "metadata": {},
   "outputs": [],
   "source": [
    "lm.resid.hist(bins = 20)"
   ]
  },
  {
   "cell_type": "code",
   "execution_count": null,
   "metadata": {},
   "outputs": [],
   "source": [
    "lm"
   ]
  },
  {
   "cell_type": "markdown",
   "metadata": {},
   "source": [
    "Another good way to check the model performance is to visualize the predicted prices with the true prices."
   ]
  },
  {
   "cell_type": "code",
   "execution_count": null,
   "metadata": {},
   "outputs": [],
   "source": [
    "# Extract model predictions on the data\n",
    "lm.fittedvalues"
   ]
  },
  {
   "cell_type": "code",
   "execution_count": null,
   "metadata": {},
   "outputs": [],
   "source": [
    "# Draw a scatter plot with the true price as the x coordinate and the \n",
    "# predicted price as the y coordinate.\n"
   ]
  },
  {
   "cell_type": "markdown",
   "metadata": {},
   "source": [
    "**Discussion**\n",
    "- If all the prices were predicted correctly, what would this plot have looked like?\n",
    "- Where does the linear model fail badly?"
   ]
  },
  {
   "cell_type": "markdown",
   "metadata": {},
   "source": [
    "# Exercise\n",
    "\n",
    "Build a linear model to describe how pupil-teacher ration (PTRATIO) affects the housing prices.\n",
    "\n",
    "- Perform linear regression and find the expression of the regression line.\n",
    "- Plot the line together with the data\n",
    "- Access whether the linear model properly describes the relationship:\n",
    "    - Is the R-squared value close to 1?\n",
    "    - Are the p-values of coefficients close to zero?\n",
    "    - Is the histogram of the residuals close to a normal distribution?\n",
    "    - Is the true vs. prediction plot close to a diagonal line?"
   ]
  },
  {
   "cell_type": "markdown",
   "metadata": {},
   "source": [
    "# Homework \\#3\n",
    "\n",
    "**Smart Air-Conditioning by Programmable thermostats**\n",
    "\n",
    "No one wants to spend more money than necessary on heating and air conditioning. But, everyone wants to be comfortable and cozy while at home. The development of programmable thermostats was an initial effort to assist in reducing energy costs. With a programmable thermostat, you can manually preset a schedule of temperature increases and decreases for weekdays and weekends, and day and night periods, to keep your home cool or warm when needed, but save energy when not needed. \n",
    "\n",
    "Suppose that you are designing a next-generation smart air-conditioning system for your house. Describe how this system can manage the home temperature automatically so that you and your family can live comfortably while the energy cost get reduced.\n",
    "\n",
    "- Search for information on how existing smart air-conditioning system can achieve.\n",
    "- Describe what information your systems needs know.\n",
    "- Describe how your system determines the home temperature given the information it collects.\n",
    "- Spend **no more than 2 hours** on this assignment.\n",
    "- Write an essay to report your design. Submit to Liang.Zhao1@lehman.cuny.edu before **Thursday, June 24th at 11:59PM**\n",
    "\n",
    "    "
   ]
  },
  {
   "cell_type": "markdown",
   "metadata": {},
   "source": [
    "# Homework \\# 4: Gas Price Prediction\n",
    "\n",
    "Since gas prices can fluctuate significantly from week to week, consumers would like to predict the gas price in the coming week so that they can determine whether to fill up the gas tank now or later.\n",
    "\n",
    "Please develop a model that a consumer living in New York could use to predict the gas price of the next week. You can use the data from the following websites or any other publicly available data such as weather data, economic data, world events, etc.\n",
    "- Weekly gas prices: http://www.eia.gov/dnav/pet/pet_pri_gnd_a_epmr_pte_dpgal_w.htm\n",
    "- Weekly crude oil prices:http://www.eia.gov/dnav/pet/pet_pri_spt_s1_w.htm\n",
    "\n",
    "**Use the 2020 data to build your model and the 2021 data to test your model.** If you find it difficult to handle the data using Python, you can use Microsoft Excel instead.\n",
    "\n",
    "Here is a list of references on creating a prediction model and handle data using Python:\n",
    "- [Python for Data Analysis](https://bedford-computing.co.uk/learning/wp-content/uploads/2015/10/Python-for-Data-Analysis.pdf)\n",
    "- [Lecture Notes on Regression](https://stat.ethz.ch/education/semesters/ss2016/regression/Regression.pdf)\n",
    "\n",
    "Please submit a paper including problem analysis, model construction, and performance analysis to Liang.Zhao1@lehman.cuny.edu before **Tuesday, June 29th at 11:59PM**\n"
   ]
  },
  {
   "cell_type": "code",
   "execution_count": 57,
   "metadata": {
    "scrolled": true
   },
   "outputs": [
    {
     "data": {
      "text/html": [
       "<div>\n",
       "<style scoped>\n",
       "    .dataframe tbody tr th:only-of-type {\n",
       "        vertical-align: middle;\n",
       "    }\n",
       "\n",
       "    .dataframe tbody tr th {\n",
       "        vertical-align: top;\n",
       "    }\n",
       "\n",
       "    .dataframe thead th {\n",
       "        text-align: right;\n",
       "    }\n",
       "</style>\n",
       "<table border=\"1\" class=\"dataframe\">\n",
       "  <thead>\n",
       "    <tr style=\"text-align: right;\">\n",
       "      <th></th>\n",
       "      <th>Date</th>\n",
       "      <th>Price</th>\n",
       "    </tr>\n",
       "  </thead>\n",
       "  <tbody>\n",
       "    <tr>\n",
       "      <th>1022</th>\n",
       "      <td>2020-01-06</td>\n",
       "      <td>2.649</td>\n",
       "    </tr>\n",
       "    <tr>\n",
       "      <th>1023</th>\n",
       "      <td>2020-01-13</td>\n",
       "      <td>2.651</td>\n",
       "    </tr>\n",
       "    <tr>\n",
       "      <th>1024</th>\n",
       "      <td>2020-01-20</td>\n",
       "      <td>2.630</td>\n",
       "    </tr>\n",
       "    <tr>\n",
       "      <th>1025</th>\n",
       "      <td>2020-01-27</td>\n",
       "      <td>2.599</td>\n",
       "    </tr>\n",
       "    <tr>\n",
       "      <th>1026</th>\n",
       "      <td>2020-02-03</td>\n",
       "      <td>2.562</td>\n",
       "    </tr>\n",
       "    <tr>\n",
       "      <th>...</th>\n",
       "      <td>...</td>\n",
       "      <td>...</td>\n",
       "    </tr>\n",
       "    <tr>\n",
       "      <th>1094</th>\n",
       "      <td>2021-05-24</td>\n",
       "      <td>2.988</td>\n",
       "    </tr>\n",
       "    <tr>\n",
       "      <th>1095</th>\n",
       "      <td>2021-05-31</td>\n",
       "      <td>2.983</td>\n",
       "    </tr>\n",
       "    <tr>\n",
       "      <th>1096</th>\n",
       "      <td>2021-06-07</td>\n",
       "      <td>3.010</td>\n",
       "    </tr>\n",
       "    <tr>\n",
       "      <th>1097</th>\n",
       "      <td>2021-06-14</td>\n",
       "      <td>3.057</td>\n",
       "    </tr>\n",
       "    <tr>\n",
       "      <th>1098</th>\n",
       "      <td>2021-06-21</td>\n",
       "      <td>3.070</td>\n",
       "    </tr>\n",
       "  </tbody>\n",
       "</table>\n",
       "<p>77 rows × 2 columns</p>\n",
       "</div>"
      ],
      "text/plain": [
       "           Date  Price\n",
       "1022 2020-01-06  2.649\n",
       "1023 2020-01-13  2.651\n",
       "1024 2020-01-20  2.630\n",
       "1025 2020-01-27  2.599\n",
       "1026 2020-02-03  2.562\n",
       "...         ...    ...\n",
       "1094 2021-05-24  2.988\n",
       "1095 2021-05-31  2.983\n",
       "1096 2021-06-07  3.010\n",
       "1097 2021-06-14  3.057\n",
       "1098 2021-06-21  3.070\n",
       "\n",
       "[77 rows x 2 columns]"
      ]
     },
     "execution_count": 57,
     "metadata": {},
     "output_type": "execute_result"
    }
   ],
   "source": [
    "from datetime import datetime\n",
    "import numpy as np\n",
    "import pandas as pd\n",
    "import matplotlib.pyplot as plt\n",
    "\n",
    "# Load gas prices\n",
    "url = \"https://www.eia.gov/dnav/pet/hist_xls/EMM_EPMR_PTE_SNY_DPGw.xls\"\n",
    "gas = pd.read_excel(url, sheet_name=\"Data 1\", skiprows=2,\n",
    "                    names=[\"Date\", \"Price\"])\n",
    "gas[\"Date\"] = pd.to_datetime(gas[\"Date\"])\n",
    "gas = gas[gas[\"Date\"] > datetime(2020, 1, 1)]\n",
    "gas"
   ]
  },
  {
   "cell_type": "code",
   "execution_count": 58,
   "metadata": {},
   "outputs": [
    {
     "data": {
      "text/html": [
       "<div>\n",
       "<style scoped>\n",
       "    .dataframe tbody tr th:only-of-type {\n",
       "        vertical-align: middle;\n",
       "    }\n",
       "\n",
       "    .dataframe tbody tr th {\n",
       "        vertical-align: top;\n",
       "    }\n",
       "\n",
       "    .dataframe thead th {\n",
       "        text-align: right;\n",
       "    }\n",
       "</style>\n",
       "<table border=\"1\" class=\"dataframe\">\n",
       "  <thead>\n",
       "    <tr style=\"text-align: right;\">\n",
       "      <th></th>\n",
       "      <th>Date</th>\n",
       "      <th>Price</th>\n",
       "    </tr>\n",
       "  </thead>\n",
       "  <tbody>\n",
       "    <tr>\n",
       "      <th>1752</th>\n",
       "      <td>2020-01-03</td>\n",
       "      <td>1.768</td>\n",
       "    </tr>\n",
       "    <tr>\n",
       "      <th>1753</th>\n",
       "      <td>2020-01-10</td>\n",
       "      <td>1.727</td>\n",
       "    </tr>\n",
       "    <tr>\n",
       "      <th>1754</th>\n",
       "      <td>2020-01-17</td>\n",
       "      <td>1.694</td>\n",
       "    </tr>\n",
       "    <tr>\n",
       "      <th>1755</th>\n",
       "      <td>2020-01-24</td>\n",
       "      <td>1.614</td>\n",
       "    </tr>\n",
       "    <tr>\n",
       "      <th>1756</th>\n",
       "      <td>2020-01-31</td>\n",
       "      <td>1.545</td>\n",
       "    </tr>\n",
       "    <tr>\n",
       "      <th>...</th>\n",
       "      <td>...</td>\n",
       "      <td>...</td>\n",
       "    </tr>\n",
       "    <tr>\n",
       "      <th>1824</th>\n",
       "      <td>2021-05-21</td>\n",
       "      <td>2.105</td>\n",
       "    </tr>\n",
       "    <tr>\n",
       "      <th>1825</th>\n",
       "      <td>2021-05-28</td>\n",
       "      <td>2.106</td>\n",
       "    </tr>\n",
       "    <tr>\n",
       "      <th>1826</th>\n",
       "      <td>2021-06-04</td>\n",
       "      <td>2.156</td>\n",
       "    </tr>\n",
       "    <tr>\n",
       "      <th>1827</th>\n",
       "      <td>2021-06-11</td>\n",
       "      <td>2.162</td>\n",
       "    </tr>\n",
       "    <tr>\n",
       "      <th>1828</th>\n",
       "      <td>2021-06-18</td>\n",
       "      <td>2.121</td>\n",
       "    </tr>\n",
       "  </tbody>\n",
       "</table>\n",
       "<p>77 rows × 2 columns</p>\n",
       "</div>"
      ],
      "text/plain": [
       "           Date  Price\n",
       "1752 2020-01-03  1.768\n",
       "1753 2020-01-10  1.727\n",
       "1754 2020-01-17  1.694\n",
       "1755 2020-01-24  1.614\n",
       "1756 2020-01-31  1.545\n",
       "...         ...    ...\n",
       "1824 2021-05-21  2.105\n",
       "1825 2021-05-28  2.106\n",
       "1826 2021-06-04  2.156\n",
       "1827 2021-06-11  2.162\n",
       "1828 2021-06-18  2.121\n",
       "\n",
       "[77 rows x 2 columns]"
      ]
     },
     "execution_count": 58,
     "metadata": {},
     "output_type": "execute_result"
    }
   ],
   "source": [
    "# Load crude oil prices\n",
    "url = \"https://www.eia.gov/dnav/pet/hist_xls/EER_EPMRU_PF4_Y35NY_DPGw.xls\"\n",
    "crude = pd.read_excel(url, sheet_name=\"Data 1\", skiprows=2,\n",
    "                    names=[\"Date\", \"Price\"])\n",
    "crude[\"Date\"] = pd.to_datetime(crude[\"Date\"])\n",
    "crude = crude[crude[\"Date\"] > datetime(2020, 1, 1)]\n",
    "crude"
   ]
  },
  {
   "cell_type": "code",
   "execution_count": 59,
   "metadata": {
    "scrolled": true
   },
   "outputs": [
    {
     "data": {
      "image/png": "[encoded data removed]",
      "text/plain": [
       "<Figure size 432x288 with 1 Axes>"
      ]
     },
     "metadata": {
      "needs_background": "light"
     },
     "output_type": "display_data"
    }
   ],
   "source": [
    "plt.plot(gas[\"Date\"], gas[\"Price\"], label=\"Gas Prices\")\n",
    "plt.plot(crude[\"Date\"], crude[\"Price\"], label=\"Crude Oil Prices\")\n",
    "plt.ylabel(\"Price\")\n",
    "plt.xticks(rotation = 45)\n",
    "plt.legend()\n",
    "plt.show()"
   ]
  },
  {
   "cell_type": "code",
   "execution_count": null,
   "metadata": {},
   "outputs": [],
   "source": []
  }
 ],
 "metadata": {
  "kernelspec": {
   "display_name": "Python 3",
   "language": "python",
   "name": "python3"
  },
  "language_info": {
   "codemirror_mode": {
    "name": "ipython",
    "version": 3
   },
   "file_extension": ".py",
   "mimetype": "text/x-python",
   "name": "python",
   "nbconvert_exporter": "python",
   "pygments_lexer": "ipython3",
   "version": "3.8.3"
  }
 },
 "nbformat": 4,
 "nbformat_minor": 4
}
