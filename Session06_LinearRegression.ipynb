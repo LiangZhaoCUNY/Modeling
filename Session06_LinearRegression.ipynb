{
 "cells": [
  {
   "cell_type": "markdown",
   "metadata": {},
   "source": [
    "# HiMCM Session 6\n",
    "# Linear Regression Model\n",
    "\n",
    "\n",
    "A **linear relationship** between two variables is one in which the scatterplot of them looks roughly like a line.  **Linear regression** is a method for modelling how a **dependent variable** linearly depends on one or more **independent variables**.  The dependent variable (also called a **response variable** and many other things) is what we are trying to model or predict, and is usually denoted $Y$.  The independent variables (also called **explanatory** or **input variables**) are the information we are using to make the predictiong, and are usually denoted $X_1, X_2, ...$.\n",
    "\n",
    "The linear relationship is: $$Y = \\beta_0 + \\beta_1 X_1 + \\beta_2 X_2 + ... + \\beta_n X_n + \\epsilon$$\n",
    "where $\\epsilon$ represents the error.\n",
    "\n",
    "Here, $Y, X_1, X_2, ..., X_n$ are *random variables* that can take different values with different probabilities.\n",
    "\n",
    "Linear regression finds the coefficients $\\beta_0, \\beta_1, ..., \\beta_n$ so that the sum of the squares of the error term for each data observation is minimized."
   ]
  },
  {
   "cell_type": "code",
   "execution_count": null,
   "metadata": {},
   "outputs": [],
   "source": []
  },
  {
   "cell_type": "markdown",
   "metadata": {},
   "source": [
    "\n",
    "As an example, we will look at a dataset about Boston housing prices in the 1970s."
   ]
  },
  {
   "cell_type": "code",
   "execution_count": null,
   "metadata": {},
   "outputs": [],
   "source": [
    "# Load the dataset from the sci-kit learn package.\n",
    "from sklearn.datasets import load_boston\n",
    "boston_dict = load_boston()"
   ]
  },
  {
   "cell_type": "code",
   "execution_count": null,
   "metadata": {},
   "outputs": [],
   "source": [
    "# Display the variable boston_dict:\n",
    "boston_dict"
   ]
  },
  {
   "cell_type": "code",
   "execution_count": null,
   "metadata": {},
   "outputs": [],
   "source": [
    "# Display the list of keys\n",
    "boston_dict.keys()"
   ]
  },
  {
   "cell_type": "code",
   "execution_count": null,
   "metadata": {},
   "outputs": [],
   "source": [
    "# Display the value linked to \"feature_names\"\n",
    "boston_dict[\"feature_names\"]"
   ]
  },
  {
   "cell_type": "code",
   "execution_count": null,
   "metadata": {},
   "outputs": [],
   "source": [
    "# This dictionary contains description of the data set\n",
    "print(boston_dict[\"DESCR\"])"
   ]
  },
  {
   "cell_type": "markdown",
   "metadata": {},
   "source": [
    "To better analyze the data, let's convert it into a **Pandas data frame**."
   ]
  },
  {
   "cell_type": "code",
   "execution_count": null,
   "metadata": {},
   "outputs": [],
   "source": [
    "import pandas as pd\n",
    "\n",
    "boston = pd.DataFrame(data=boston_dict.data)"
   ]
  },
  {
   "cell_type": "code",
   "execution_count": null,
   "metadata": {},
   "outputs": [],
   "source": [
    "# Display the data frame\n",
    "boston"
   ]
  },
  {
   "cell_type": "code",
   "execution_count": null,
   "metadata": {},
   "outputs": [],
   "source": [
    "# There are no column names, so let's repeat that command, but telling Pandas \n",
    "# that the column names are in feature_names\n",
    "boston = pd.DataFrame(data=boston_dict.data,\n",
    "                      columns=boston_dict.feature_names)\n",
    "\n",
    "boston"
   ]
  },
  {
   "cell_type": "code",
   "execution_count": null,
   "metadata": {},
   "outputs": [],
   "source": [
    "# So far we have created a data frame with all independent variables.\n",
    "# Let's also add the price data to the data frame.\n",
    "boston[\"price\"] = boston_dict.target \n",
    "\n",
    "# Display the first several rows to verify that the new column was added correctly.\n",
    "boston.head()"
   ]
  },
  {
   "cell_type": "code",
   "execution_count": null,
   "metadata": {},
   "outputs": [],
   "source": [
    "# Let look at the relationship between the price and the average number of rooms (RM)\n",
    "boston.plot.scatter(x=\"RM\", y=\"price\")"
   ]
  },
  {
   "cell_type": "markdown",
   "metadata": {},
   "source": [
    "There seems to be a linear relationship between RM and price. How can we find a line that best describes this relation?\n",
    "- What is the mathematcial expression of a straight line?\n",
    "- Given two different lines, how do we tell which one fits the data better?\n",
    "- How to find the line that best fits the data?\n",
    "\n",
    "Let's perform linear regression using the `statsmodel` library."
   ]
  },
  {
   "cell_type": "code",
   "execution_count": null,
   "metadata": {},
   "outputs": [],
   "source": [
    "import statsmodels.formula.api as smf\n",
    "\n",
    "lm = smf.ols('price ~ RM',boston).fit()\n",
    "lm.summary()"
   ]
  },
  {
   "cell_type": "markdown",
   "metadata": {},
   "source": [
    "## Interpreting the Linear Regression Summary\n",
    "- Dep. Variable\n",
    "- Method\n",
    "- Date and Time\n",
    "- No. Observations\n",
    "- Df Residuals: The degree of freedom\n",
    "- Df Model: The number of dependent variables\n",
    "- **R-squared**: How much of the changes dependent variables is explained by the changes in independent variables\n",
    "- **Adjusted R-squared**: A better performance measure for multiple dependent variables\n",
    "- **Prob(F statistic)**: How likely did this trend occur by pure luck?\n",
    "- **coef**: Estimates of model coefficients\n",
    "- **P > |t|**: How likely the true value of this coefficient is actually zero? This value is call the **p-value**.\n",
    "- [0.025, 0.975]: The confidence interval of the coefficient\n"
   ]
  },
  {
   "cell_type": "code",
   "execution_count": null,
   "metadata": {},
   "outputs": [],
   "source": [
    "# Build a linear model on price and crime rate (CRIM)\n",
    "# Is this a stronger relationship?\n"
   ]
  },
  {
   "cell_type": "code",
   "execution_count": null,
   "metadata": {
    "scrolled": true
   },
   "outputs": [],
   "source": [
    "# Visualize the regression line with data\n",
    "import seaborn as sns\n",
    "\n",
    "sns.regplot(y=\"price\", x=\"RM\", data=boston, fit_reg = True)"
   ]
  },
  {
   "cell_type": "markdown",
   "metadata": {},
   "source": [
    "## Is Linear Regression a Good Choice?\n",
    "\n",
    "The **residuals** are the difference between the actual value of price and the value predicted by the regression line, for each row of the data. If the linear model is a good fit, the histogram should look like a **normal distribution**.\n"
   ]
  },
  {
   "cell_type": "code",
   "execution_count": null,
   "metadata": {},
   "outputs": [],
   "source": [
    "# Display the residuals\n",
    "lm.resid"
   ]
  },
  {
   "cell_type": "code",
   "execution_count": null,
   "metadata": {},
   "outputs": [],
   "source": [
    "lm.resid.hist(bins = 20)"
   ]
  },
  {
   "cell_type": "code",
   "execution_count": null,
   "metadata": {},
   "outputs": [],
   "source": [
    "lm"
   ]
  },
  {
   "cell_type": "markdown",
   "metadata": {},
   "source": [
    "Another good way to check the model performance is to visualize the predicted prices with the true prices."
   ]
  },
  {
   "cell_type": "code",
   "execution_count": null,
   "metadata": {},
   "outputs": [],
   "source": [
    "# Extract model predictions on the data\n",
    "lm.fittedvalues"
   ]
  },
  {
   "cell_type": "code",
   "execution_count": null,
   "metadata": {},
   "outputs": [],
   "source": [
    "# Draw a scatter plot with the true price as the x coordinate and the \n",
    "# predicted price as the y coordinate.\n"
   ]
  },
  {
   "cell_type": "markdown",
   "metadata": {},
   "source": [
    "**Discussion**\n",
    "- If all the prices were predicted correctly, what would this plot have looked like?\n",
    "- Where does the linear model fail badly?"
   ]
  },
  {
   "cell_type": "markdown",
   "metadata": {},
   "source": [
    "# Homework \\#3\n",
    "\n",
    "1. Use a linear model to describe how pupil-teacher ration (PTRATIO) affects the housing prices.\n",
    "\n",
    "    - Perform linear regression and find the expression of the regression line.\n",
    "    - Plot the line together with the data\n",
    "    - Access whether the linear model properly describes the relationship:\n",
    "        - Is the R-squared value close to 1?\n",
    "        - Are the p-values of coefficients close to zero?\n",
    "        - Is the histogram of the residuals close to a normal distribution?\n",
    "        - Is the true vs. prediction plot close to a diagonal line?\n",
    "    \n",
    "2. **Smart Air-Conditioning by Programmable thermostats**\n",
    "\n",
    "No one wants to spend more money than necessary on heating and air conditioning. But, everyone wants to be comfortable and cozy while at home. The development of programmable thermostats was an initial effort to assist in reducing energy costs. With a programmable thermostat, you can manually preset a schedule of temperature increases and decreases for weekdays and weekends, and day and night periods, to keep your home cool or warm when needed, but save energy when not needed. \n",
    "\n",
    "Suppose that you are designing a next-generation smart air-conditioning system for your house. Describe how this system can manage the home temperature automatically so that you and your family can live comfortably while the energy cost get reduced.\n",
    "\n",
    "- Search for information on how existing smart air-conditioning system can achieve.\n",
    "- Describe what information your systems needs know.\n",
    "- Describe how your system determines the home temperature given the information it collects.\n",
    "- Spend **no more than 2 hours** on this assignment.\n",
    "- Write an essay to report your design. Submit to Liang.Zhao1@lehman.cuny.edu before **Thursday, June 24th at 11:59PM**\n",
    "\n",
    "    "
   ]
  }
 ],
 "metadata": {
  "kernelspec": {
   "display_name": "Python 3",
   "language": "python",
   "name": "python3"
  },
  "language_info": {
   "codemirror_mode": {
    "name": "ipython",
    "version": 3
   },
   "file_extension": ".py",
   "mimetype": "text/x-python",
   "name": "python",
   "nbconvert_exporter": "python",
   "pygments_lexer": "ipython3",
   "version": "3.8.3"
  }
 },
 "nbformat": 4,
 "nbformat_minor": 4
}
