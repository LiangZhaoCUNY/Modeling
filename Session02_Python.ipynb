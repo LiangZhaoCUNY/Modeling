{
 "cells": [
  {
   "cell_type": "markdown",
   "metadata": {},
   "source": [
    "# Mathematical Modeling (2)\n",
    "# Introduction to Python Programming\n",
    "\n",
    "Programming is like cooking:\n",
    "- Prepare a list of **variables** (ingredients)\n",
    "- Assign proper **values** to the variables (amounts)\n",
    "- Create a series of **instructions** (recipe)\n",
    "- Produce **results** (a delicious dish)\n",
    "\n",
    "In this class, we will learn the **Python** programming language because:\n",
    "- It is easier to learn\n",
    "- It comes with powerful tools for mathematical computations\n",
    "- It is the most popular programming language for data scientists"
   ]
  },
  {
   "cell_type": "markdown",
   "metadata": {},
   "source": [
    "## Create the First Python Program\n",
    "\n",
    "For this section, let's use a website called \"Online Python\" (https://www.online-python.com/) to write our first program. Later today I will show you how to set up a more serious Python environment on your own computer.\n",
    "\n",
    "The website has three important components:\n",
    "- Code editor -  where python statements can be entered\n",
    "- \"Run\" button - press this button to execute the program\n",
    "- Terminal - displays execution results\n",
    "\n",
    "It is really simple to make Python display a sentence in the console. \n",
    "- Delete the existing code \n",
    "- Type the statement: `print(\"Hello World!\")` \n",
    "- Click the Run button. \n",
    "\n",
    "The terminal should display the sentence \"Hello World!\"\n"
   ]
  },
  {
   "cell_type": "markdown",
   "metadata": {},
   "source": [
    "## Write Comments\n",
    "It is often necessary to add comments（注释） to your program so that other programmers can understand what this program is trying to do. In Python the most common way of adding comments is to start a line with the # (hash) sign.\n",
    "\n",
    "- Add comment \"Program created on **/**/****\" at the beginning of your program.\n",
    "\n",
    "Comments will be simply ignored by the machine when the program is executed."
   ]
  },
  {
   "cell_type": "markdown",
   "metadata": {},
   "source": [
    "## Create Variables\n",
    "A **Variable**（变量） is a named item used to store a number or a string of texts (字符串）\n",
    "\n",
    "Examples:\n",
    "- my_name = \"Liang\"\n",
    "- my_age = 35\n",
    "- PI_VALUE = 3.14159\n",
    "\n",
    "Convention: \n",
    "- Use uppercase letters and underscores _ to name a variable that stores a constant value.\n",
    "- Use lowercase letters and underscores _ to name a varialbe that stores a varying value.\n",
    "\n",
    "With variables you can:\n",
    "- Print their values: `print(\"My name is:\", my_name)`. (How to print `my_age`?)\n",
    "- Perform arithmetic operation: `print(2021 - my_age)`. (How to calculate my age in 2050?)\n",
    "- Check a condition: `print(\"Am I an adult?\", my_age > 18)` (How to check whether I will reach 60 in 2050?)\n",
    "\n",
    "**Arithmetic Operators:**\n",
    "- +, -\n",
    "- *, /: multiplication, division\n",
    "- //: integer division\n",
    "- %: modulo operator\n",
    "\n",
    "Exercise: Write an expression to check whether `my_age` is even or odd. "
   ]
  },
  {
   "cell_type": "markdown",
   "metadata": {},
   "source": [
    "## Exercise: Solving Quadratic Equations\n",
    "\n",
    "Given $a = 1, b = 5, c = 4$, Write a Python program to calculate solutions to the quadratic equation\n",
    "\n",
    "$$\n",
    "ax^2 + bx + c = 0.\n",
    "$$\n",
    "\n",
    "Remember that the solutions can be found using the quadratic formula:\n",
    "\n",
    "$$\n",
    "x = \\frac{-b \\pm \\sqrt{b^2 - 4ac}}{2a}.\n",
    "$$\n",
    "\n",
    "*We can make the program solve a general quadratic equation*. Use the following statements to assign values to parameters at *run time*:\n",
    "```python\n",
    "a = input(\"Enter value of a:\")\n",
    "b = input(\"Enter value of b:\")\n",
    "c = input(\"Enter value of c:\")\n",
    "```"
   ]
  },
  {
   "cell_type": "code",
   "execution_count": 2,
   "metadata": {},
   "outputs": [
    {
     "name": "stdout",
     "output_type": "stream",
     "text": [
      "-1.0 -4.0\n"
     ]
    }
   ],
   "source": [
    "from math import sqrt\n",
    "# You can also use \"import math\", but you need to use express \"math.sqrt\" instead of \"sqrt\"\n",
    "\n",
    "a = 1\n",
    "b = 5\n",
    "c = 4\n",
    "\n",
    "x1 = (-b + sqrt(b ** 2 - 4 * a * c)) / (2 * a)\n",
    "x2 = (-b - sqrt(b ** 2 - 4 * a * c)) / (2 * a)\n",
    "\n",
    "print(x1, x2)"
   ]
  },
  {
   "cell_type": "markdown",
   "metadata": {},
   "source": [
    "## Decision Branches\n",
    "Sometimes we want the program to do different things based on condition. This can be achieved by an **if** code block. For example, the following program only prints \"Let's go to the beach!\" if `is_sunny` is `True`.\n",
    "```python\n",
    "is_sunny = True\n",
    "\n",
    "# An if block:\n",
    "if is_sunny:\n",
    "    print(\"Let's go to the beach!\")\n",
    "```\n",
    "\n",
    "Note that:\n",
    "- The if block starts with the keyword \"if\".\n",
    "- It follows by a **boolean value** （布尔值） that can only be True or False.\n",
    "- There is a colon : at the end of the first line.\n",
    "- The remaining statements must be **indented**. Indentation is how Python knows which statements belongs to the if block.\n",
    "\n",
    "**Exercise**: Add another print statement to the if block.\n",
    "\n",
    "What if we want the program to do something if `is_sunny` is `False`? We can specify the instructions in the **else** block. For example, the following program prints \"Let's watch a movie!\" if `is_sunny` is `False`.\n",
    "```python\n",
    "is_sunny = True\n",
    "\n",
    "# An if-else block:\n",
    "if is_sunny:\n",
    "    print(\"Let's go to the beach!\")\n",
    "else:\n",
    "    print(\"Let's watch a movie!\")\n",
    "```\n",
    "\n",
    "The boolean value can be given implicitly by a **condition**（条件）. For example, the following if-else block is based on whether $a$ is greater than 5:\n",
    "```python\n",
    "\n",
    "a = input(\"Enter the value of a:\")\n",
    "a = int(a) # convert a from a string to an integer\n",
    "\n",
    "if a > 5:\n",
    "    print(\"a is greater than 5.\")\n",
    "else:\n",
    "    print(\"a is less than or equal to 5.\")\n",
    "```\n",
    "\n",
    "**and, or, not**\n",
    "\n",
    "We can combine multiple conditions with keywords `and`, `or`:\n",
    "- Print \"I am a teenager.\" if `my_age` is between 10 and 18.\n",
    "\n",
    "We can negate a condition using keyword `not`:\n",
    "- Print \"Let's watch a movie!\" if `is_sunny` is False."
   ]
  },
  {
   "cell_type": "markdown",
   "metadata": {},
   "source": [
    "## Exercise: If-Else Statements\n",
    "Modify the program on qudratic equations so that it prints \"No solution\" if $b^2 - 4ac < 0$."
   ]
  },
  {
   "cell_type": "markdown",
   "metadata": {},
   "source": [
    "## Lists\n",
    "- **Lists** are used to store a sequence of variables.\n",
    "- Each element of a list is assigned an integer - its **index**\n",
    "For example, the following program defines a list of 5 names. It prints the first name using expression `names[0]`, and the last name using expression `names[4]`.\n",
    "\n",
    "```python\n",
    "names = [\"Alice\", \"Bob\", \"Charlie\", \"David\", \"Eve\"]\n",
    "\n",
    "print(names)\n",
    "print(\"The first name:\", names[0])\n",
    "print(\"The last name:\", names[4])\n",
    "```\n",
    "\n",
    "**List operations:**\n",
    "- Add a new elements: `names.append(\"Fred\")`, `names.insert(2, \"Gillian\")`\n",
    "- Remove an element: `names.remove(\"David\")`\n",
    "- Find the length of a list: `len(names)`"
   ]
  },
  {
   "cell_type": "markdown",
   "metadata": {},
   "source": [
    "## Loops\n",
    "\n",
    "We can make a program execute statments repeatedly. Such a code block is called a **loop**（循环语句）. For example, the following program prints all the elements from a list:\n",
    "\n",
    "```python\n",
    "names = [\"Alice\", \"Bob\", \"Charlie\", \"David\", \"Eve\"]\n",
    "\n",
    "for name in names:\n",
    "    print(name)\n",
    "```\n",
    "\n",
    "The following loop does the same thing by looping through the index:\n",
    "```python\n",
    "names = [\"Alice\", \"Bob\", \"Charlie\", \"David\", \"Eve\"]\n",
    "num_names = len(names) # The length of the list\n",
    "\n",
    "for idx in range(num_names):\n",
    "    print(names[idx])\n",
    "```\n",
    "\n",
    "**Exercises:**\n",
    "- Print string \"Python\" 10 times with a loop.\n",
    "- Print the first 20 integers, starting with 0.\n",
    "- Calculate the *sum* of the first 20 integers.\n",
    "- Print all divisors of 100.\n",
    "- Print the following pattern:\n",
    "```\n",
    "@\n",
    "@@\n",
    "@@@\n",
    "@@@@\n",
    "@@@@@\n",
    "@@@@@@\n",
    "```\n",
    "\n",
    "**Exit a loop early**\n",
    "\n",
    "We can use the `break` statement to exit a loop early.\n",
    "- Find the first number after 100 that is divisible by 37.\n",
    "\n",
    "If we just want to exit the current iteration, use `continue` instead.\n",
    "- Print all numbers between 100 and 200 that are divisible by 37 and are NOT 148."
   ]
  },
  {
   "cell_type": "code",
   "execution_count": 3,
   "metadata": {},
   "outputs": [
    {
     "name": "stdout",
     "output_type": "stream",
     "text": [
      "25\n"
     ]
    }
   ],
   "source": [
    "# Loop examples\n",
    "\n",
    "# Find the sum of a list\n",
    "# use a for loop to repeat 5 times.\n",
    "sum = 0\n",
    "for i in [1,2,3,4,5,5,5]:\n",
    "    sum = sum + i\n",
    "print(sum)"
   ]
  },
  {
   "cell_type": "code",
   "execution_count": 4,
   "metadata": {},
   "outputs": [
    {
     "name": "stdout",
     "output_type": "stream",
     "text": [
      "25\n"
     ]
    }
   ],
   "source": [
    "# Find the maximum number of a list\n",
    "nums = [10, -20, 3.5, 4, 25]\n",
    "max = nums[0] # intialize max with the first number\n",
    "for i in nums:\n",
    "    if i > max:\n",
    "        max = i\n",
    "print(max)"
   ]
  },
  {
   "cell_type": "markdown",
   "metadata": {},
   "source": [
    "## Solve The River-Crossing Problem\n",
    "\n",
    "<img src=\"https://github.com/ch00226855/ImputationGAN/blob/master/HiMCM/RiverCrossing.png?raw=true\" width=\"600\">\n",
    "\n",
    "- x: number of merchants on the original bank\n",
    "- y: number of servants on the original bank\n",
    "- u: number of merchants boarding the boat\n",
    "- v: number of merchants boarding the boat\n",
    "- Initial status: x = 3, y = 3\n",
    "- Target status: x = 0, y = 0\n",
    "\n",
    "**Tasks:**\n",
    "1. Write a program to check if a move (u, v) is feasible.\n",
    "2. write a program to check if a list of moves changes the intial status to the target status.\n",
    "3. Write a program to **find** a list of moves that changes the intial status to the target status."
   ]
  },
  {
   "cell_type": "markdown",
   "metadata": {},
   "source": [
    "# Homework\n",
    "**Which Chinese city is the best city for retired people?**\n",
    "- What are the reasons for retired people to like or dislike a city?\n",
    "- Obviously **there is no single correct answer**, but you need to provide adequate evidence to support your choice.\n",
    "- **Don't think all by yourself**: Have other people considered this question? What did they say?\n",
    "- **Think quantitatively**: What data do you have to back up your claim?\n",
    "- **Report in writing**: Write an essay to convince me that your choice is reasonable.\n",
    "- **Time is limited**: You can only spend **no more than 2 hours** to work on this assignment. Make sure that you have enough time to write down your findings.\n",
    "\n",
    "Please send your essay to Liang.Zhao1@lehman.cuny.edu and xuzhixin@paperpai.com before **Tuesday, June 8th at 11:59 PM**. Your email should be titled \"HiMCM Homework #1 - (Your Name)\"."
   ]
  },
  {
   "cell_type": "code",
   "execution_count": null,
   "metadata": {},
   "outputs": [],
   "source": []
  }
 ],
 "metadata": {
  "kernelspec": {
   "display_name": "Python 3",
   "language": "python",
   "name": "python3"
  },
  "language_info": {
   "codemirror_mode": {
    "name": "ipython",
    "version": 3
   },
   "file_extension": ".py",
   "mimetype": "text/x-python",
   "name": "python",
   "nbconvert_exporter": "python",
   "pygments_lexer": "ipython3",
   "version": "3.8.3"
  }
 },
 "nbformat": 4,
 "nbformat_minor": 4
}
