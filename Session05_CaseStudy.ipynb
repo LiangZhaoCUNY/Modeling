{
 "cells": [
  {
   "cell_type": "markdown",
   "metadata": {},
   "source": [
    "# HiMCM (5)\n",
    "# Case Study"
   ]
  },
  {
   "cell_type": "markdown",
   "metadata": {},
   "source": [
    "##  Homework #2\n",
    "\n",
    "Suppose you are designing the checkout area for a new store. There is enough room in the store for two checkout counters and a waiting area for customers. You can make two lines, one for each counter, or one line that feeds both counters.\n",
    "\n",
    "A single queue can ensure that each shopper is treated equally, first-come, first-served. It however has some practical drawbacks: in order to maintain a single line, you might have to install barriers, and customers might be put off by what seems to be a longer line. The central question is: Which system makes customers happier?\n",
    "\n",
    "For this assignment, please build a mathematical model to determine which queueing system customers would prefer.\n",
    "- Restate the problem to clarify the objectives\n",
    "- Make proper assumptions for missing information\n",
    "- Build a mathematical model\n",
    "- Calculate the solution\n",
    "- Perform sensitivity analysis of your results"
   ]
  },
  {
   "cell_type": "markdown",
   "metadata": {},
   "source": [
    "## Problem Analysis\n",
    "\n",
    "**What are the differences between one line and two lines?**\n",
    "\n",
    "Single-Line Queueing\n",
    "- Fairness: first come, first served.\n",
    "- Baulking: customer may think the line is too long and leaves.\n",
    "- Reneging: customer in the line may become tired of waiting and leave.\n",
    "\n",
    "Multi-Line Queueing:\n",
    "- Lines move at different speed.\n",
    "- Jockeying: customer may move from line to line to find the shortest one.\n",
    "- Reneging\n",
    "\n",
    "**Let's imagine some concrete cases:**\n",
    "- Very few customers\n",
    "- A lot of customers\n",
    "- One customer with a lot of items, and many customers with 1-2 items"
   ]
  },
  {
   "cell_type": "markdown",
   "metadata": {},
   "source": [
    "# Assumptions\n",
    "\n",
    "Let's simplify the problem and make it more precise with the following assumptions:\n",
    "- Customers like to spend less time in the line. Customers care about fairness.\n",
    "- Two counters have the same efficiency.\n",
    "- Customers get to choose the line in which they want to be.\n",
    "- Customers are not allowed to switch lines.\n",
    "- Customers never leaves the line after joining.\n",
    "\n",
    "\n"
   ]
  },
  {
   "cell_type": "markdown",
   "metadata": {},
   "source": [
    "## Factors\n",
    "Which factors may affect the waiting time?\n",
    "- arrival rate of customers\n",
    "- time for checking-out\n",
    "\n",
    "Which factors may affect baulking?\n",
    "- tolerance threshold\n",
    "- length of the line\n",
    "\n",
    "Which factors may affect fairness?\n",
    "- speed difference\n",
    "\n",
    "Which factors affect customer satisfaction?\n",
    "- fairness\n",
    "- waiting time\n",
    "- the importance of each factor"
   ]
  },
  {
   "cell_type": "markdown",
   "metadata": {},
   "source": [
    "## Modeling\n",
    "\n",
    "$$R = w_{wait} \\cdot \\frac{1}{T} - w_{fair}\\cdot \\max(0, \\frac{T - T_{alt}}{T})$$\n",
    "\n",
    "- $R$: customer satisfactory rating\n",
    "- $T$: waiting time\n",
    "- $T_{alt}$: waiting time if the customer uses the other line.\n",
    "- $w_{fair}, w_{wait}$: importance of fairness and waiting time.\n",
    "\n",
    "**Model justification**\n",
    "- smaller T => higher rating\n",
    "- fix T, $T_{alt} > T$, no fairness penalty\n",
    "- fix T, $T_{alt} \\ll T$, signaficant fairness penalty\n",
    "\n",
    "**How to determine the importance parameters?**"
   ]
  },
  {
   "cell_type": "markdown",
   "metadata": {},
   "source": [
    "## Write Math Expressions in Microsoft Word"
   ]
  },
  {
   "cell_type": "markdown",
   "metadata": {},
   "source": [
    "## Simulation\n",
    "Let's calculate the rating with computer simulation\n",
    "\n",
    "How to simulate a queueing environment?\n",
    "- Line: length of each line\n",
    "- Customer under study:\n",
    "    - baulking tolerance\n",
    "    - waiting time\n",
    "- Customer already in line:\n",
    "    - checkout time\n",
    "   \n",
    "**What are the parameters of the simulation?**\n",
    "- one line or two line\n",
    "- number of customers in line"
   ]
  },
  {
   "cell_type": "code",
   "execution_count": null,
   "metadata": {},
   "outputs": [],
   "source": [
    "import random\n",
    "\n",
    "# Expected results:\n",
    "# For a given length of the line, determine the time to clear this line.\n",
    "# This amount is equivalent to the waiting time of the last customer.\n",
    "\n",
    "# 1. Generate all the customers\n",
    "def generate_a_customer(num_existing_customers,\n",
    "                        CHECKOUT_TIME_LOWER_BOUND,\n",
    "                        CHECKOUT_TIME_UPPER_BOUND):\n",
    "    \"\"\"\n",
    "    A customer can be described by the following attributes:\n",
    "    1. customer ID\n",
    "    2. checkout time\n",
    "    \"\"\"\n",
    "    customer_id = num_existing_customers + 1\n",
    "    checkout_time = random.randint(CHECKOUT_TIME_LOWER_BOUND,\n",
    "                                    CHECKOUT_TIME_UPPER_BOUND)\n",
    "    customer = [customer_id, checkout_time]\n",
    "    return customer\n",
    "\n",
    "\n",
    "test_customer = generate_a_customer(0, 2, 10)\n",
    "print(test_customer)"
   ]
  },
  {
   "cell_type": "code",
   "execution_count": null,
   "metadata": {},
   "outputs": [],
   "source": [
    "def generate(numberofpeople):\n",
    "    \n",
    "    customer_list = []\n",
    "    \n",
    "    for i in range(1, numberofpeople):\n",
    "        time = random.randint(1, 10)\n",
    "        customer_list.append([i, time])\n",
    "#         print(i, time)\n",
    "    return customer_list\n",
    "\n",
    "test_list = generate(10)\n",
    "\n",
    "print(test_list)"
   ]
  },
  {
   "cell_type": "markdown",
   "metadata": {},
   "source": [
    "We can now call function `generate_a_customer` repeatedly to generate a list of customers"
   ]
  },
  {
   "cell_type": "code",
   "execution_count": null,
   "metadata": {
    "scrolled": true
   },
   "outputs": [],
   "source": [
    "# Generate 10 customers as a dictionary\n",
    "customer_list = {}\n",
    "# define a for loop\n",
    "for i in range(10):\n",
    "# call function to generate a new customer\n",
    "    customer = generate_a_customer(i, 1, 11)\n",
    "# append the new customer to the customer list\n",
    "    customer_list[customer[0]] = customer[1]\n",
    "# print the list\n",
    "print(customer_list)\n",
    "\n",
    "grades = {\"Alice\": 90, \"Bob\": 85, \"Charlie\": 70}\n",
    "print(grades[\"Alice\"])\n",
    "print(grades[\"Charlie\"])"
   ]
  },
  {
   "cell_type": "code",
   "execution_count": null,
   "metadata": {},
   "outputs": [],
   "source": [
    "# Generate 10 customers as a list\n",
    "customer_list = []\n",
    "# define a for loop\n",
    "for i in range(10):\n",
    "# call function to generate a new customer\n",
    "    customer = generate_a_customer(i, 1, 11)\n",
    "# append the new customer to the customer list\n",
    "    customer_list.append(customer)\n",
    "# print the list\n",
    "print(customer_list)"
   ]
  },
  {
   "cell_type": "code",
   "execution_count": null,
   "metadata": {},
   "outputs": [],
   "source": [
    "import numpy as np\n",
    "\n",
    "# Define simulation parameters\n",
    "W_WAIT = 0.9\n",
    "W_FAIR = 0.1\n",
    "TOTAL_CUSTOMERS = 10\n",
    "CHECKOUT_TIME_LOWER_BOUND = 2\n",
    "CHECKOUT_TIME_UPPER_BOUND = 10"
   ]
  },
  {
   "cell_type": "code",
   "execution_count": null,
   "metadata": {},
   "outputs": [],
   "source": [
    "# 2. Put customers in a line\n",
    "def generate_a_line(length, CHECKOUT_TIME_LOWER_BOUND, CHECKOUT_TIME_UPPER_BOUND):\n",
    "    \n",
    "    line = []\n",
    "    \n",
    "    for i in range(length):\n",
    "        customer = generate_a_customer(i, CHECKOUT_TIME_LOWER_BOUND, CHECKOUT_TIME_UPPER_BOUND)\n",
    "        line.append(customer)\n",
    "        \n",
    "    return line\n",
    "\n",
    "test_line = generate_a_line(5, CHECKOUT_TIME_LOWER_BOUND, CHECKOUT_TIME_UPPER_BOUND)\n",
    "print(test_line)"
   ]
  },
  {
   "cell_type": "code",
   "execution_count": null,
   "metadata": {},
   "outputs": [],
   "source": []
  },
  {
   "cell_type": "code",
   "execution_count": null,
   "metadata": {},
   "outputs": [],
   "source": [
    "# 3. Calculate the waiting time\n",
    "\n",
    "######### Two lines ############\n",
    "\n",
    "def simulate_two_lines(num_runs):\n",
    "    \n",
    "    ratings = []\n",
    "    \n",
    "    for i in range(num_runs):\n",
    "        line_one_length = TOTAL_CUSTOMERS // 2\n",
    "        line_two_length = TOTAL_CUSTOMERS - line_one_length\n",
    "        last_customer_in_line_one = (TOTAL_CUSTOMERS // 2 == 1)\n",
    "\n",
    "        line_one = generate_a_line(line_one_length, CHECKOUT_TIME_LOWER_BOUND, CHECKOUT_TIME_UPPER_BOUND)\n",
    "        line_two = generate_a_line(line_two_length, CHECKOUT_TIME_LOWER_BOUND, CHECKOUT_TIME_UPPER_BOUND)\n",
    "\n",
    "        # calculate the waiting time\n",
    "        waiting_time = 0\n",
    "        alternate_waiting_time = 0\n",
    "        if last_customer_in_line_one:\n",
    "            for customer in line_one:\n",
    "                waiting_time = waiting_time + customer[1]\n",
    "            for customer in line_two:\n",
    "                alternate_waiting_time = alternate_waiting_time + customer[1]\n",
    "        else: # What to do if customer joins line 2?\n",
    "            for customer in line_one:\n",
    "                alternate_waiting_time = alternate_waiting_time + customer[1]\n",
    "            for customer in line_two:\n",
    "                waiting_time = waiting_time + customer[1]\n",
    "            \n",
    "\n",
    "\n",
    "        customer_rating = W_WAIT / waiting_time - W_FAIR * \\\n",
    "                max(0, (waiting_time - alternate_waiting_time) / waiting_time)\n",
    "        ratings.append(customer_rating)\n",
    "        \n",
    "    return np.mean(ratings)\n",
    "\n",
    "test_avg_rating = simulate_two_lines(100)\n",
    "print(test_avg_rating)"
   ]
  },
  {
   "cell_type": "code",
   "execution_count": null,
   "metadata": {},
   "outputs": [],
   "source": [
    "####### One line ##################\n",
    "def simulate_one_line(num_runs):\n",
    "    \n",
    "    ratings = []\n",
    "    \n",
    "    for i in range(num_runs):\n",
    "        line = generate_a_line(TOTAL_CUSTOMERS, CHECKOUT_TIME_LOWER_BOUND, CHECKOUT_TIME_UPPER_BOUND)\n",
    "        \n",
    "        all_checkout_time = 0\n",
    "        for customer in line:\n",
    "            all_checkout_time = all_checkout_time + customer[1]\n",
    "        waiting_time = all_checkout_time / 2\n",
    "        \n",
    "        customer_rating = W_WAIT / waiting_time # There is no T_alt in this case\n",
    "        ratings.append(customer_rating)\n",
    "        \n",
    "    return np.mean(ratings)\n",
    "\n",
    "test_avg_rating = simulate_one_line(100)\n",
    "print(test_avg_rating)"
   ]
  },
  {
   "cell_type": "code",
   "execution_count": null,
   "metadata": {},
   "outputs": [],
   "source": [
    "total_customer_values = [1, 3, 5, 7, 9, 11]\n",
    "results_one_line = []\n",
    "results_two_lines = []\n",
    "\n",
    "for TOTAL_CUSTOMERS in total_customer_values:\n",
    "    results_one_line.append(simulate_one_line(100))\n",
    "    results_two_lines.append(simulate_two_lines(100))\n",
    "\n",
    "print(results_one_line)\n",
    "print(results_two_lines)"
   ]
  },
  {
   "cell_type": "code",
   "execution_count": null,
   "metadata": {},
   "outputs": [],
   "source": [
    "# Store the results as a data frame\n",
    "import pandas as pd\n",
    "results = pd.DataFrame({\"One Line\": results_one_line,\n",
    "                        \"Two Lines\": results_two_lines},\n",
    "                       index=total_customer_values)\n",
    "results"
   ]
  },
  {
   "cell_type": "code",
   "execution_count": null,
   "metadata": {},
   "outputs": [],
   "source": [
    "# Visualize the results\n",
    "results.plot.bar()"
   ]
  },
  {
   "cell_type": "markdown",
   "metadata": {},
   "source": [
    "## Results\n",
    "- Run the simulation with different parameter settings\n",
    "- Present and compare the results"
   ]
  },
  {
   "cell_type": "markdown",
   "metadata": {},
   "source": [
    "## Analysis\n",
    "- If an assumption changes, will the results change dramatically?\n",
    "- If a parameter value changes, will the results change dramatically?\n",
    "- limitations of the model?"
   ]
  },
  {
   "cell_type": "code",
   "execution_count": null,
   "metadata": {},
   "outputs": [],
   "source": []
  },
  {
   "cell_type": "code",
   "execution_count": null,
   "metadata": {},
   "outputs": [],
   "source": []
  }
 ],
 "metadata": {
  "kernelspec": {
   "display_name": "Python 3",
   "language": "python",
   "name": "python3"
  },
  "language_info": {
   "codemirror_mode": {
    "name": "ipython",
    "version": 3
   },
   "file_extension": ".py",
   "mimetype": "text/x-python",
   "name": "python",
   "nbconvert_exporter": "python",
   "pygments_lexer": "ipython3",
   "version": "3.8.3"
  }
 },
 "nbformat": 4,
 "nbformat_minor": 4
}
