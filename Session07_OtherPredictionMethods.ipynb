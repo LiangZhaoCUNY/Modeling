{
 "cells": [
  {
   "cell_type": "markdown",
   "metadata": {},
   "source": [
    "# HiMCM Session 7\n",
    "# Other Prediction Methods\n",
    "\n",
    "- **Multiple Linear Regression**: Predict the dependent variable based on a linear combination of independent variables.\n",
    "- **Polynomial Regression**: Describe the relationship as a polynomial.\n",
    "- **Logistic Regression**: Designed for classification tasks."
   ]
  },
  {
   "cell_type": "markdown",
   "metadata": {},
   "source": [
    "## Multiple Linear Regression\n",
    "\n",
    "Multiple linear regression is an extension of linear regression. It aims to build a relationship between the dependent variable and multiple independent variables. We will use the following example to see how to conduct multiple linear regression."
   ]
  },
  {
   "cell_type": "code",
   "execution_count": null,
   "metadata": {},
   "outputs": [],
   "source": [
    "import numpy as np\n",
    "import pandas as pd\n",
    "import matplotlib.pyplot as plt\n",
    "# The following \"magic command\" allows figures to be displayed automatically\n",
    "%matplotlib inline"
   ]
  },
  {
   "cell_type": "code",
   "execution_count": null,
   "metadata": {},
   "outputs": [],
   "source": [
    "# Load the insurance prices data set.\n",
    "url = \"https://raw.githubusercontent.com/stedy/Machine-Learning-with-R-datasets/master/insurance.csv\"\n",
    "insurance = pd.read_csv(url)\n",
    "insurance.head()"
   ]
  },
  {
   "cell_type": "markdown",
   "metadata": {},
   "source": [
    "To get a feel for the data, it is common to do some quick exploratory analysis."
   ]
  },
  {
   "cell_type": "code",
   "execution_count": null,
   "metadata": {},
   "outputs": [],
   "source": [
    "# Size of data\n",
    "print(insurance.shape)"
   ]
  },
  {
   "cell_type": "code",
   "execution_count": null,
   "metadata": {},
   "outputs": [],
   "source": [
    "# Variable names, data types, and missing values\n",
    "insurance.info()"
   ]
  },
  {
   "cell_type": "code",
   "execution_count": null,
   "metadata": {
    "scrolled": true
   },
   "outputs": [],
   "source": [
    "# Distribution of categorical variables\n",
    "insurance['sex'].value_counts()"
   ]
  },
  {
   "cell_type": "code",
   "execution_count": null,
   "metadata": {},
   "outputs": [],
   "source": [
    "insurance['sex'].value_counts().plot.bar()"
   ]
  },
  {
   "cell_type": "code",
   "execution_count": null,
   "metadata": {},
   "outputs": [],
   "source": [
    "# Visualize the distribution of `smoker` and `region`.\n",
    "\n"
   ]
  },
  {
   "cell_type": "code",
   "execution_count": null,
   "metadata": {},
   "outputs": [],
   "source": [
    "# Descriptive statistics on numerical variables\n",
    "# BMI: body mass index\n",
    "insurance.describe()"
   ]
  },
  {
   "cell_type": "code",
   "execution_count": null,
   "metadata": {},
   "outputs": [],
   "source": [
    "# Distribution of data\n",
    "pd.plotting.scatter_matrix(insurance, figsize=(10, 10))\n",
    "plt.show()"
   ]
  },
  {
   "cell_type": "markdown",
   "metadata": {},
   "source": [
    "Which variable has a linear relationship with `charges`?"
   ]
  },
  {
   "cell_type": "code",
   "execution_count": null,
   "metadata": {},
   "outputs": [],
   "source": [
    "# Use relplot from the seaborn library to inspect the data more closely\n",
    "import seaborn as sns\n",
    "sns.relplot(x = \"bmi\", y=\"charges\", hue =\"smoker\",data=insurance)\n",
    "# plt.show()"
   ]
  },
  {
   "cell_type": "code",
   "execution_count": null,
   "metadata": {},
   "outputs": [],
   "source": [
    "# Exercise: Use Seaborn to make a scatter plot with age on the x axis and\n",
    "# charges on the y axis, colored by whether the person is a smoker.\n",
    "\n"
   ]
  },
  {
   "cell_type": "markdown",
   "metadata": {},
   "source": [
    "Let's build a multiple linear regression model."
   ]
  },
  {
   "cell_type": "code",
   "execution_count": null,
   "metadata": {},
   "outputs": [],
   "source": [
    "import statsmodels.formula.api as smf\n",
    "\n",
    "model1 = smf.ols('charges ~ age + bmi + children', data = insurance).fit()\n",
    "model1.summary()"
   ]
  },
  {
   "cell_type": "markdown",
   "metadata": {},
   "source": [
    "- What is the equation of this linear model?\n",
    "- Is the R^2 value good?\n",
    "- Could any of the coefficients be 0?\n",
    "- Are the residuals follow a normal distribution?\n",
    "- Are the predicted values close to the actual values?"
   ]
  },
  {
   "cell_type": "code",
   "execution_count": null,
   "metadata": {},
   "outputs": [],
   "source": [
    "model1.resid.hist(bins = 20)"
   ]
  },
  {
   "cell_type": "code",
   "execution_count": null,
   "metadata": {},
   "outputs": [],
   "source": [
    "plt.scatter(x = insurance[\"charges\"], y = model1.fittedvalues)\n",
    "plt.xlabel(\"Actual charges\")\n",
    "plt.ylabel(\"Predicted charges\")"
   ]
  },
  {
   "cell_type": "markdown",
   "metadata": {},
   "source": [
    "Let's add the remaining columns. For categorical variables, we need to convert them to quantitative data using **dummy variables**."
   ]
  },
  {
   "cell_type": "code",
   "execution_count": null,
   "metadata": {},
   "outputs": [],
   "source": [
    "insurance_new = pd.get_dummies(insurance, columns=[\"sex\"], drop_first=True)\n",
    "insurance_new.head()"
   ]
  },
  {
   "cell_type": "code",
   "execution_count": null,
   "metadata": {},
   "outputs": [],
   "source": [
    "# Exercise: Convert \"smoker\" and \"region\" to quantitative columns.\n",
    "\n"
   ]
  },
  {
   "cell_type": "code",
   "execution_count": null,
   "metadata": {},
   "outputs": [],
   "source": [
    "# Exercise: Build a lienar regression model using all these columns.\n",
    "\n"
   ]
  },
  {
   "cell_type": "markdown",
   "metadata": {},
   "source": [
    "Evaluate the performance of this linear model."
   ]
  },
  {
   "cell_type": "code",
   "execution_count": null,
   "metadata": {},
   "outputs": [],
   "source": []
  },
  {
   "cell_type": "code",
   "execution_count": null,
   "metadata": {},
   "outputs": [],
   "source": []
  },
  {
   "cell_type": "markdown",
   "metadata": {},
   "source": [
    "## Polynomial Regression\n",
    "\n",
    "If the relationship is not linear, we can use a polynomial to fit the data. A polynomial curve is more flexible since it has more parameters."
   ]
  },
  {
   "cell_type": "code",
   "execution_count": null,
   "metadata": {},
   "outputs": [],
   "source": [
    "url = \"https://raw.githubusercontent.com/JWarmenhoven/ISLR-python/master/Notebooks/Data/Wage.csv\"\n",
    "# wage = pd.read_csv(url)\n",
    "wage = pd.read_csv(url, usecols=['age', 'wage'])\n",
    "wage.head()"
   ]
  },
  {
   "cell_type": "code",
   "execution_count": null,
   "metadata": {},
   "outputs": [],
   "source": [
    "plt.plot(wage['age'], wage['wage'], 'b.', alpha=0.1)"
   ]
  },
  {
   "cell_type": "code",
   "execution_count": null,
   "metadata": {},
   "outputs": [],
   "source": [
    "model = smf.ols('wage ~ age + I(age**2) + I(age**3)', wage).fit()\n",
    "model.summary()"
   ]
  },
  {
   "cell_type": "code",
   "execution_count": null,
   "metadata": {
    "scrolled": true
   },
   "outputs": [],
   "source": [
    "# Visualize the model\n",
    "pred = model.fittedvalues\n",
    "plt.plot(wage['age'], pred, 'gs', alpha=0.1)\n",
    "plt.plot(wage['age'], wage['wage'], 'b.', alpha=0.1)"
   ]
  },
  {
   "cell_type": "markdown",
   "metadata": {},
   "source": [
    "## Logistic Regression\n",
    "\n",
    "The Challenger Space Shuttle tragically explored in 1986, killing all astronauts on board. The explosion was shown to have been caused by an O-ring failure, likely due to cold temperatures the day of the launch.\n",
    "\n",
    "<img src=\"https://www.history.com/.image/ar_16:9%2Cc_fill%2Ccs_srgb%2Cfl_progressive%2Cg_faces:center%2Cq_auto:good%2Cw_768/MTU3ODc4NTk5MjI2NTY1OTYx/image-placeholder-title.jpg\" width=\"300\">\n",
    "\n",
    "Below is the test data of this O-ring under a variety of temperatures:"
   ]
  },
  {
   "cell_type": "code",
   "execution_count": null,
   "metadata": {},
   "outputs": [],
   "source": [
    "url = \"http://comet.lehman.cuny.edu/owen/teaching/mat328/chall.txt\"\n",
    "data = pd.read_csv(url,\n",
    "                   sep=\"\\s+\",\n",
    "                   header=None,\n",
    "                   names=[\"Temperature\", \"Failure\"])\n",
    "# data.sort_values(by='Temperature', inplace=True)\n",
    "# data.reset_index(drop=True, inplace=True)\n",
    "data"
   ]
  },
  {
   "cell_type": "code",
   "execution_count": null,
   "metadata": {},
   "outputs": [],
   "source": [
    "# Plot the data\n",
    "data.plot.scatter(x=\"Temperature\", y=\"Failure\")"
   ]
  },
  {
   "cell_type": "markdown",
   "metadata": {},
   "source": [
    "On the launch day, the temperature was 30 degree Fahrenheit. How likely will this O-ring fail?\n",
    "\n",
    "A **logistic regression** model aims to predict the probability of a event given a group of independent variables. Let's apply this method."
   ]
  },
  {
   "cell_type": "code",
   "execution_count": null,
   "metadata": {},
   "outputs": [],
   "source": [
    "logistic_model = smf.logit('Failure ~ Temperature',data).fit()\n",
    "logistic_model.summary()"
   ]
  },
  {
   "cell_type": "code",
   "execution_count": null,
   "metadata": {},
   "outputs": [],
   "source": [
    "# Graph the model as a probability curve.\n",
    "x = np.linspace(50, 85, 200) # sample 200 evenly-spaced values in [50, 85]\n",
    "params = logistic_model.params\n",
    "logits = params['Intercept'] + x * params['Temperature']\n",
    "probs = np.exp(logits) / (1 + np.exp(logits))\n",
    "\n",
    "data.plot.scatter(x = \"Temperature\", y = \"Failure\")\n",
    "plt.plot(x, probs)\n"
   ]
  },
  {
   "cell_type": "code",
   "execution_count": null,
   "metadata": {},
   "outputs": [],
   "source": [
    "test = pd.DataFrame({\"Temperature\":[30]})\n",
    "test"
   ]
  },
  {
   "cell_type": "code",
   "execution_count": null,
   "metadata": {},
   "outputs": [],
   "source": [
    "logistic_model.predict(test)"
   ]
  }
 ],
 "metadata": {
  "kernelspec": {
   "display_name": "Python 3",
   "language": "python",
   "name": "python3"
  },
  "language_info": {
   "codemirror_mode": {
    "name": "ipython",
    "version": 3
   },
   "file_extension": ".py",
   "mimetype": "text/x-python",
   "name": "python",
   "nbconvert_exporter": "python",
   "pygments_lexer": "ipython3",
   "version": "3.8.3"
  }
 },
 "nbformat": 4,
 "nbformat_minor": 4
}
