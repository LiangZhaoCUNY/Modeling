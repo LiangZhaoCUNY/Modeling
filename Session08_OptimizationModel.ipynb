{
 "cells": [
  {
   "cell_type": "markdown",
   "metadata": {},
   "source": [
    "# HiMCM Session 8\n",
    "# Unconstrained Optimization Methods"
   ]
  },
  {
   "cell_type": "markdown",
   "metadata": {},
   "source": [
    "# Economic Order Quantity\n",
    "\n",
    "Company Johnson & Johnson Medical assembles certain medical components into surgical kits that will then be sold to hospital around the world. Ordering this medical component costs a fixed amount of \\\\$5000 (regardless of the amount). Holding extra components in the company's warehouse costs money, too. Each unit costs $1 per day at the warehouse. If J&JM plans to consume 100 units per day, how oftern should the company order the medical components so that the total cost is minimized?"
   ]
  },
  {
   "cell_type": "code",
   "execution_count": 14,
   "metadata": {},
   "outputs": [],
   "source": [
    "import numpy as np\n",
    "import pandas as pd\n",
    "import matplotlib.pyplot as plt\n",
    "# the following \"magic command\" makes plots automatically displayed\n",
    "%matplotlib inline"
   ]
  },
  {
   "cell_type": "markdown",
   "metadata": {},
   "source": [
    "## Problem Analysis\n",
    "Let's consider three different strategies:\n",
    "\n",
    "**Strategy 1**: Make an order every day:\n",
    "- Order 100 units each time\n",
    "- No holding cost\n",
    "- $\\textit{Cost per day} = 5000$\n",
    "- Average cost per unit = 5000 / 100 = 50"
   ]
  },
  {
   "cell_type": "code",
   "execution_count": null,
   "metadata": {},
   "outputs": [],
   "source": []
  },
  {
   "cell_type": "markdown",
   "metadata": {},
   "source": [
    "**Strategy 2**: Make an order every 10 days:\n",
    "- Order 1000 units each time\n",
    "- Holding cost = 900 + 800 + 700 + ... + 100 = 4500\n",
    "- Cost per unit = (4500 + 5000) / 1000 = 9.5"
   ]
  },
  {
   "cell_type": "code",
   "execution_count": 6,
   "metadata": {},
   "outputs": [
    {
     "name": "stdout",
     "output_type": "stream",
     "text": [
      "4500\n"
     ]
    }
   ],
   "source": [
    "Q = 1000\n",
    "sum = 0\n",
    "\n",
    "while Q > 0:\n",
    "    Q = Q - 100\n",
    "    sum = sum + Q\n",
    "    \n",
    "print(sum)\n"
   ]
  },
  {
   "cell_type": "code",
   "execution_count": 8,
   "metadata": {},
   "outputs": [
    {
     "name": "stdout",
     "output_type": "stream",
     "text": [
      "4500\n"
     ]
    }
   ],
   "source": [
    "Q = 900\n",
    "sum = 0\n",
    "for i in range(Q, 0, -100):\n",
    "    sum += i\n",
    "print(sum)"
   ]
  },
  {
   "cell_type": "markdown",
   "metadata": {},
   "source": [
    "**Strategy 3**: Make an order every 50 days:\n",
    "- Order 5000 units each time\n",
    "- Holding cost = 4900 + 4800 + ... + 100\n",
    "- Cost per unit = (holding cost + 5000) / 5000 = 25.5"
   ]
  },
  {
   "cell_type": "code",
   "execution_count": 10,
   "metadata": {},
   "outputs": [
    {
     "name": "stdout",
     "output_type": "stream",
     "text": [
      "Holding cost: 122500\n",
      "Cost per unit: 25.5\n"
     ]
    }
   ],
   "source": [
    "Q = 4900\n",
    "holding_cost = 0\n",
    "for i in range(Q, 0, -100):\n",
    "    holding_cost += i\n",
    "print(\"Holding cost:\", holding_cost)\n",
    "\n",
    "cost_per_unit = (holding_cost + 5000) / 5000\n",
    "print(\"Cost per unit:\", cost_per_unit)"
   ]
  },
  {
   "cell_type": "markdown",
   "metadata": {},
   "source": [
    "**Observations**:\n",
    "- Ordering too ofter: too much fixed ordering cost\n",
    "- Ordering infrequently: too much holding cost\n",
    "- There should be a \"sweet spot\"\n",
    "\n",
    "We need to build a mathematical model to find the best ordering strategy.\n",
    "\n",
    "## Assumptions and Justifications\n",
    "1. The amount of medical components needed every day is a constant.\n",
    "2. The cost of each order is a constant. (What if this is not the case?)\n",
    "3. The holding cost of each unit is a constant.\n",
    "4. The amount of units for each order can be arbitrarily large. (What if this is not the case?)\n",
    "5. There is no **time value** of money. (What if this is not the case?)\n",
    "6. Components are delivered immediately.\n",
    "\n",
    "## Variables\n",
    "\n",
    "- **D**: Daily quantity demanded\n",
    "- **Q**: Volume per order\n",
    "- **S**: Fixed ordering cost\n",
    "- **C**: Unit cost (*omiited*)\n",
    "- **H**: Holding cost\n",
    "- **i**: Carrying cost (interest rate,  *omiited*) \n",
    "- **U**: Cost of under-production (*omitted*)\n",
    "- **T**: Place an order every $T$ days. $T = Q / D$."
   ]
  },
  {
   "cell_type": "markdown",
   "metadata": {},
   "source": [
    "## Model Construction\n",
    "\n",
    "Let $q(t)$ be the amount of medical components in the warehouse at the end the $t$-th day. \n",
    "- The initial amount is Q. Namely, $q(0) = Q$.\n",
    "- Each day $D$ units are consumed.\n",
    "- If less than $D$ units are left at the end of the $t$-th day, then a new order must be placed.\n",
    "\n",
    "- $q(t) = Q - tD$ if $0<t<T$.\n",
    "- $q(t) = Q - (t - T)D$ if $ T < t < 2T$.\n",
    "- ..."
   ]
  },
  {
   "cell_type": "code",
   "execution_count": 11,
   "metadata": {},
   "outputs": [],
   "source": [
    "# Define the function q(t)\n",
    "def q(t, Q, D):\n",
    "    \n",
    "    T = int(Q / D)\n",
    "    days_in_cycle = t % T\n",
    "    return Q - days_in_cycle * D"
   ]
  },
  {
   "cell_type": "code",
   "execution_count": 13,
   "metadata": {},
   "outputs": [
    {
     "data": {
      "text/plain": [
       "4800"
      ]
     },
     "execution_count": 13,
     "metadata": {},
     "output_type": "execute_result"
    }
   ],
   "source": [
    "# Test q(t)\n",
    "\n",
    "q(2, 5000, 100)"
   ]
  },
  {
   "cell_type": "code",
   "execution_count": 23,
   "metadata": {},
   "outputs": [],
   "source": [
    "# Define constants\n",
    "\n",
    "Q = 1000\n",
    "D = 100"
   ]
  },
  {
   "cell_type": "code",
   "execution_count": 24,
   "metadata": {},
   "outputs": [
    {
     "data": {
      "text/plain": [
       "[<matplotlib.lines.Line2D at 0x168956101f0>]"
      ]
     },
     "execution_count": 24,
     "metadata": {},
     "output_type": "execute_result"
    },
    {
     "data": {
      "image/png": "[encoded data removed]",
      "text/plain": [
       "<Figure size 432x288 with 1 Axes>"
      ]
     },
     "metadata": {
      "needs_background": "light"
     },
     "output_type": "display_data"
    }
   ],
   "source": [
    "# Plot the graph of q(t)\n",
    "\n",
    "# ts = [0, 1, ..., 50]\n",
    "ts = range(0, 51) # the second parameter is exclusive\n",
    "qs = []\n",
    "for t in ts:\n",
    "    qs.append(q(t, Q, D))\n",
    "plt.plot(ts, qs, 'b-')"
   ]
  },
  {
   "cell_type": "markdown",
   "metadata": {},
   "source": [
    "The total cost in each cycle is the sum of ordering cost and holding cost. **How to calculate them?**\n",
    "\n",
    "- holding cost = (T - 1)DH + (T - 2)DH + ... + DH = DH(1 + ... + T-1) = $\\frac{T(T-1)DH}{2}$\n",
    "- total cost in a cycle = holding cost + ordering cost = $\\frac{T(T-1)DH}{2} + S$"
   ]
  },
  {
   "cell_type": "code",
   "execution_count": null,
   "metadata": {},
   "outputs": [],
   "source": []
  },
  {
   "cell_type": "markdown",
   "metadata": {},
   "source": [
    "Calculate the average cost per unit.\n",
    "- average cost per unit = total cost in a cycle / volumn of order = $\\frac{(T-1)H}{2} + \\frac{S}{TD}$"
   ]
  },
  {
   "cell_type": "code",
   "execution_count": null,
   "metadata": {},
   "outputs": [],
   "source": []
  },
  {
   "cell_type": "code",
   "execution_count": 5,
   "metadata": {},
   "outputs": [],
   "source": [
    "# Plot the average cost as a function of T.\n",
    "\n"
   ]
  },
  {
   "cell_type": "markdown",
   "metadata": {},
   "source": [
    "How to find the value of $T$ that minimizes the average cost?\n",
    "\n",
    "- Calculate its derivative.\n",
    "- Use inequality: $a + b \\ge 2\\sqrt{ab}$\n",
    "- Use Python\n",
    "\n",
    "Solution: The average cost is minimum when $T = \\sqrt{\\frac{2S}{DH}}$"
   ]
  },
  {
   "cell_type": "code",
   "execution_count": null,
   "metadata": {},
   "outputs": [],
   "source": []
  },
  {
   "cell_type": "markdown",
   "metadata": {},
   "source": [
    "## Analysis\n",
    "**Sanity Check**: does the result align with our intuition?\n",
    "- How often should the company place orders when the ordering cost is high?\n",
    "- How often should the company place orders when the holding cost is high?\n",
    "\n",
    "**Sensitivity Analysis**: How sensitive is the optimal $T$ to the parameters?\n",
    "- $Q$\n",
    "- $S$\n",
    "- $H$"
   ]
  },
  {
   "cell_type": "markdown",
   "metadata": {},
   "source": [
    "## Limitations of the Solution\n",
    "- Doesn't consider the cost of production\n",
    "- The ordering cost is assumed to be a constant\n",
    "- Doesn't consider the limit of a single order\n",
    "- Doesn't consider the time value of money\n",
    "- Doesn't consider the option to produce less"
   ]
  },
  {
   "cell_type": "markdown",
   "metadata": {},
   "source": [
    "## Improve the Model by Allowing Underproduction"
   ]
  },
  {
   "cell_type": "markdown",
   "metadata": {},
   "source": [
    "**Additional Assumption:**\n",
    "- The company can choose to produce less than $D$ products per day. If $D - B$ products are produced, the **underproduction cost** is $\\$Bc$.\n",
    "- $T$ and $Q$ no longer satisfies $T = Q / D$."
   ]
  },
  {
   "cell_type": "markdown",
   "metadata": {},
   "source": [
    "- $q(t) = ?$\n",
    "- Total cost?\n",
    "- Daily cost?\n",
    "- Optimal $T$?"
   ]
  },
  {
   "cell_type": "code",
   "execution_count": null,
   "metadata": {},
   "outputs": [],
   "source": []
  },
  {
   "cell_type": "code",
   "execution_count": null,
   "metadata": {},
   "outputs": [],
   "source": []
  }
 ],
 "metadata": {
  "kernelspec": {
   "display_name": "Python 3",
   "language": "python",
   "name": "python3"
  },
  "language_info": {
   "codemirror_mode": {
    "name": "ipython",
    "version": 3
   },
   "file_extension": ".py",
   "mimetype": "text/x-python",
   "name": "python",
   "nbconvert_exporter": "python",
   "pygments_lexer": "ipython3",
   "version": "3.8.3"
  }
 },
 "nbformat": 4,
 "nbformat_minor": 4
}
